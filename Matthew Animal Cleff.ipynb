{
 "cells": [
  {
   "cell_type": "code",
   "execution_count": 129,
   "metadata": {},
   "outputs": [],
   "source": [
    "import os\n",
    "import torch\n",
    "import time\n",
    "import torch.nn as nn\n",
    "import torch.nn.functional as F\n",
    "from torch.utils.data import DataLoader, Dataset\n",
    "import torchvision.transforms as transforms\n",
    "from PIL import Image\n",
    "import pandas as pd\n",
    "from torchvision.models.vision_transformer import vit_b_16, ViT_B_16_Weights\n",
    "from tqdm import tqdm\n",
    "import matplotlib.pyplot as plt\n",
    "from animal_dataset import AnimalCLEFDataset  # now importable"
   ]
  },
  {
   "cell_type": "code",
   "execution_count": 130,
   "metadata": {},
   "outputs": [
    {
     "data": {
      "text/plain": [
       "<torch._C.Generator at 0x10e51d990>"
      ]
     },
     "execution_count": 130,
     "metadata": {},
     "output_type": "execute_result"
    }
   ],
   "source": [
    "# =============================\n",
    "# Configurations\n",
    "# =============================\n",
    "BATCH_SIZE = 32\n",
    "NUM_WORKERS = 4\n",
    "IMAGE_SIZE = 224\n",
    "LR = 1e-4\n",
    "\n",
    "epoch = 30\n",
    "EPOCHS_CLP = epoch\n",
    "EPOCHS_PLF = epoch\n",
    "\n",
    "LAMBDA = 0.2\n",
    "ALPHA_CL = .2\n",
    "ALPHA_REC = 1.8\n",
    "\n",
    "FORCE_TRAIN_RESTART = True\n",
    "\n",
    "#DEVICE = torch.device('cuda' if torch.cuda.is_available() else 'cpu')\n",
    "CHECKPOINT_DIR = './checkpoints'\n",
    "os.makedirs(CHECKPOINT_DIR, exist_ok=True)\n",
    "\n",
    "root = '../animal-clef-2025_data'\n",
    "\n",
    "# reproducibility\n",
    "torch.manual_seed(42)"
   ]
  },
  {
   "cell_type": "code",
   "execution_count": 131,
   "metadata": {},
   "outputs": [
    {
     "name": "stdout",
     "output_type": "stream",
     "text": [
      "Using device: mps\n"
     ]
    }
   ],
   "source": [
    "# Set device, Mac, GPU, or CPU\n",
    "if torch.backends.mps.is_available() and torch.backends.mps.is_built():\n",
    "    DEVICE = torch.device(\"mps\")\n",
    "elif torch.cuda.is_available():\n",
    "    DEVICE = torch.device(\"cuda\")\n",
    "else:\n",
    "    DEVICE = torch.device(\"cpu\")\n",
    "\n",
    "print(\"Using device:\", DEVICE)"
   ]
  },
  {
   "cell_type": "code",
   "execution_count": 132,
   "metadata": {},
   "outputs": [],
   "source": [
    "\"\"\"\n",
    "# =============================\n",
    "# Dataset\n",
    "# =============================\n",
    "class AnimalCLEFDataset(Dataset):\n",
    "    def __init__(self, root, split=\"database\", transform=None):\n",
    "        self.root = root.rstrip('/')\n",
    "        meta = pd.read_csv(f\"{self.root}/metadata.csv\")\n",
    "        sel = meta[meta['path'].str.contains(f\"/{split}/\")].reset_index(drop=True)\n",
    "        if sel.empty:\n",
    "            raise ValueError(f\"No entries for split '{split}'\")\n",
    "\n",
    "        self.paths = sel['path'].tolist()\n",
    "        self.image_ids = sel['image_id'].tolist()\n",
    "\n",
    "        if split == 'database':\n",
    "            #  Use individual identity,  \n",
    "            ids = sel['identity'].astype(str)\n",
    "\n",
    "            #  Build mapping from identity string → label index\n",
    "            self.id2idx = {iid: i for i, iid in enumerate(sorted(ids.unique()))}\n",
    "\n",
    "            #  Map each sample's identity to its label\n",
    "            self.labels = ids.map(self.id2idx).tolist()\n",
    "\n",
    "            # Safety check\n",
    "            num_classes = len(self.id2idx)\n",
    "            assert all(0 <= label < num_classes for label in self.labels), \"Invalid labels found\"\n",
    "        else:\n",
    "            self.labels = [-1] * len(sel)\n",
    "\n",
    "        self.transform = transform\n",
    "\n",
    "    def __len__(self):\n",
    "        return len(self.paths)\n",
    "\n",
    "    def __getitem__(self, i):\n",
    "        img = Image.open(f\"{self.root}/{self.paths[i]}\").convert('RGB')\n",
    "        if self.transform:\n",
    "            img = self.transform(img)\n",
    "        return img, self.labels[i]\n",
    "\"\"\";"
   ]
  },
  {
   "cell_type": "code",
   "execution_count": 133,
   "metadata": {},
   "outputs": [],
   "source": [
    "# =============================\n",
    "# MAE Encoder + Projection Head + Decoder\n",
    "# =============================\n",
    "class MAEFramework(nn.Module):\n",
    "    def __init__(self,\n",
    "                 embed_dim: int = 768,\n",
    "                 proj_dim: int = 256,\n",
    "                 decoder_dim: int = 256,\n",
    "                 layer_indices: list[int] = [3, 6, 9]):\n",
    "        super().__init__()\n",
    "        self.embed_dim = embed_dim\n",
    "        # 1) Backbone ViT\n",
    "        self.encoder = vit_b_16(weights=ViT_B_16_Weights.IMAGENET1K_V1)\n",
    "        self.encoder.head = nn.Identity()\n",
    "        self.layer_indices = set(layer_indices)\n",
    "\n",
    "        # 3) Projection head\n",
    "        self.proj_head = nn.Sequential(\n",
    "            nn.Linear(embed_dim, embed_dim),\n",
    "            nn.ReLU(inplace=True),\n",
    "            nn.Linear(embed_dim, proj_dim),\n",
    "        )\n",
    "        # 4) Decoder\n",
    "        self.decoder = nn.Sequential(\n",
    "            nn.Linear(embed_dim, decoder_dim),\n",
    "            nn.ReLU(inplace=True),\n",
    "            nn.Linear(decoder_dim, 3 * IMAGE_SIZE * IMAGE_SIZE),\n",
    "        )\n",
    "\n",
    "    def forward(self, x: torch.Tensor, return_feats: bool = False):\n",
    "        B = x.size(0)\n",
    "        # patch embed\n",
    "        x_p = self.encoder.conv_proj(x)\n",
    "        x_p = x_p.flatten(2).transpose(1, 2)\n",
    "        cls_tok = self.encoder.class_token.expand(B, -1, -1)\n",
    "        tokens = torch.cat([cls_tok, x_p], dim=1)\n",
    "        tokens = tokens + self.encoder.encoder.pos_embedding\n",
    "\n",
    "        feats = []\n",
    "        for idx, block in enumerate(self.encoder.encoder.layers):\n",
    "            tokens = block(tokens)\n",
    "            if idx in self.layer_indices:\n",
    "                feats.append(tokens.clone())\n",
    "\n",
    "        cls_feat = self.encoder.encoder.ln(tokens[:, 0])\n",
    "        proj = self.proj_head(cls_feat)\n",
    "        rec = self.decoder(cls_feat).view(B, 3, IMAGE_SIZE, IMAGE_SIZE)\n",
    "        rec_loss = F.mse_loss(rec, x, reduction='none').mean([1, 2, 3])\n",
    "\n",
    "        if return_feats:\n",
    "            return cls_feat, proj, rec_loss, rec, feats\n",
    "        return proj, rec_loss, rec\n"
   ]
  },
  {
   "cell_type": "code",
   "execution_count": 134,
   "metadata": {},
   "outputs": [],
   "source": [
    "# =============================\n",
    "# Losses\n",
    "# =============================\n",
    "class SupConLoss(nn.Module):\n",
    "    def __init__(self, temperature=0.5):\n",
    "        super().__init__()\n",
    "        self.temp = temperature\n",
    "\n",
    "    def forward(self, p1, p2, labels=None):\n",
    "        # NT-Xent instance-level contrastive loss\n",
    "        z = torch.cat([p1, p2], dim=0)\n",
    "        z = F.normalize(z, dim=1)\n",
    "        N = p1.size(0)\n",
    "        sim = torch.matmul(z, z.T) / self.temp\n",
    "        mask = torch.eye(2*N, device=sim.device).bool()\n",
    "        sim.masked_fill_(mask, -9e15)\n",
    "        idx = torch.arange(N, device=sim.device)\n",
    "        targets = torch.cat([idx + N, idx])\n",
    "        return F.cross_entropy(sim, targets)\n",
    "\n",
    "class ProtoLoss(nn.Module):\n",
    "    def forward(self, feats, prototypes, labels):\n",
    "        dist = torch.cdist(feats, prototypes)\n",
    "        return F.cross_entropy(-dist, labels)"
   ]
  },
  {
   "cell_type": "code",
   "execution_count": 135,
   "metadata": {},
   "outputs": [],
   "source": [
    "# =============================\n",
    "# Utilities\n",
    "# =============================\n",
    "def compute_layer_distances(bef_feats, aft_feats, temperature=0.5):\n",
    "    total = []  # Initialize as a list to store distances per layer\n",
    "    for b, a in zip(bef_feats, aft_feats):\n",
    "        b_f, a_f = b.flatten(1), a.flatten(1)\n",
    "        eu = F.pairwise_distance(b_f, a_f)\n",
    "        cos = 1 - F.cosine_similarity(b_f, a_f, dim=1)\n",
    "        score = eu + temperature * cos  # this score is already (B,)\n",
    "        total.append(score)  # Add the current batch's score to the list\n",
    "    return torch.stack(total, dim=0).mean(dim=0)  # Stack and compute mean along dim=0\n",
    "\n",
    "def calculate_unknown_score(feat_bef, feat_aft, feat_vec, prototypes, lamda=1.0):\n",
    "    # 1. Compute multilayer feature distance (s_total)\n",
    "    s_total = compute_layer_distances(feat_bef, feat_aft, temperature=0.5)  # Can keep temp fixed or expose as param\n",
    "\n",
    "    # 2. Compute max prototype similarity (s_prototypes)\n",
    "    fv_n = F.normalize(feat_vec, dim=1)  # (B, D)\n",
    "    p_n = F.normalize(prototypes, dim=1)  # (C, D)\n",
    "    sim = torch.matmul(fv_n, p_n.T)  # (B, C)\n",
    "    s_proto, _ = sim.max(dim=1)  # (B,)\n",
    "\n",
    "    # 3. Final score using lambda\n",
    "    score = s_proto - lamda * s_total\n",
    "\n",
    "    return score  # (B,)"
   ]
  },
  {
   "cell_type": "code",
   "execution_count": 136,
   "metadata": {},
   "outputs": [],
   "source": [
    "def train_CLP(model, loader, epochs, lr, ckpt, alpha_cl=1.0, alpha_rec=1.0, force_restart = False):\n",
    "    cl_hist, rec_hist, tot_hist = [], [], []\n",
    "    path = os.path.join(CHECKPOINT_DIR, ckpt)\n",
    "    opt  = torch.optim.Adam(model.parameters(), lr=lr)\n",
    "    start = 0\n",
    "\n",
    "    if os.path.exists(path) and force_restart:\n",
    "        print(f\"Checkpoint {path} exists. Restarting training.\")\n",
    "        os.remove(path)\n",
    "\n",
    "    # load checkpoint (stripping \"module.\" if needed) …\n",
    "    if os.path.exists(path):\n",
    "        ck     = torch.load(path, map_location=DEVICE)\n",
    "        raw_sd = ck['model']\n",
    "        sd     = {k.replace(\"module.\", \"\"): v for k, v in raw_sd.items()}\n",
    "        model.load_state_dict(sd)\n",
    "        opt.load_state_dict(ck['opt'])\n",
    "        start = ck['ep'] + 1\n",
    "\n",
    "    scl = SupConLoss()\n",
    "    model.to(DEVICE)\n",
    "\n",
    "    for ep in range(start, epochs):\n",
    "        model.train()\n",
    "\n",
    "        # reset accumulators each epoch\n",
    "        total_cl, total_rec, total = 0.0, 0.0, 0.0\n",
    "\n",
    "        for x, y in tqdm(loader, desc=f\"CLP Ep{ep+1}\"):\n",
    "            x, y = x.to(DEVICE), y.to(DEVICE)\n",
    "            x1 = x + 0.05 * torch.randn_like(x)\n",
    "            x2 = x + 0.05 * torch.randn_like(x)\n",
    "\n",
    "            _, p1, r1_loss, _, _ = model(x1, return_feats=True)\n",
    "            _, p2, r2_loss, _, _ = model(x2, return_feats=True)\n",
    "\n",
    "            l_cl  = scl(p1, p2)\n",
    "            l_rec = r1_loss.mean() + r2_loss.mean()\n",
    "            loss  = alpha_cl * l_cl + alpha_rec * l_rec\n",
    "\n",
    "            opt.zero_grad()\n",
    "            loss.backward()\n",
    "            opt.step()\n",
    "\n",
    "            total      += loss.item()\n",
    "            total_cl   += l_cl.item()\n",
    "            total_rec  += l_rec.item()\n",
    "\n",
    "        # save checkpoint\n",
    "        torch.save({\n",
    "            'model': model.module.state_dict() if isinstance(model, nn.DataParallel)\n",
    "                                                 else model.state_dict(),\n",
    "            'opt':   opt.state_dict(),\n",
    "            'ep':    ep\n",
    "        }, path)\n",
    "\n",
    "        # compute per-epoch averages\n",
    "        avg_cl  = total_cl  / len(loader)\n",
    "        avg_rec = total_rec / len(loader)\n",
    "        avg_tot = total  / len(loader)\n",
    "\n",
    "        # record histories\n",
    "        cl_hist.append(avg_cl)\n",
    "        rec_hist.append(avg_rec)\n",
    "        tot_hist.append(avg_tot)\n",
    "\n",
    "        print(f\"CLP Epoch {ep+1}: total={avg_tot:.4f}, cl={avg_cl:.4f}, rec={avg_rec:.4f}\")\n",
    "\n",
    "    return model, cl_hist, rec_hist, tot_hist\n"
   ]
  },
  {
   "cell_type": "code",
   "execution_count": 137,
   "metadata": {},
   "outputs": [],
   "source": [
    "\"\"\"def train_CLP(model, loader, epochs, lr, ckpt, alpha_cl=1.0, alpha_rec=1.0):\n",
    "    \n",
    "    path = os.path.join(CHECKPOINT_DIR, ckpt)\n",
    "    opt = torch.optim.Adam(model.parameters(), lr=lr)\n",
    "    start = 0\n",
    "\n",
    "    # --- load checkpoint if it exists, stripping \"module.\" if necessary\n",
    "    if os.path.exists(path):\n",
    "        ck = torch.load(path, map_location=DEVICE)\n",
    "        raw_sd = ck['model']\n",
    "        # strip DataParallel \"module.\" prefix\n",
    "        sd = {k.replace(\"module.\", \"\"): v for k, v in raw_sd.items()}\n",
    "        model.load_state_dict(sd)\n",
    "        opt.load_state_dict(ck['opt'])\n",
    "        start = ck['ep'] + 1\n",
    "    # ---------------------------------------------------------------\n",
    "\n",
    "    scl = SupConLoss()\n",
    "    model.to(DEVICE)\n",
    "\n",
    "    for ep in range(start, epochs):\n",
    "        model.train()\n",
    "        total = 0.0\n",
    "        for x, y in tqdm(loader, desc=f\"CLP Ep{ep+1}\"):\n",
    "            x, y = x.to(DEVICE), y.to(DEVICE)\n",
    "            x1 = x + 0.05 * torch.randn_like(x)\n",
    "            x2 = x + 0.05 * torch.randn_like(x)\n",
    "            f1, p1, r1_loss, r1, _ = model(x1, return_feats=True)\n",
    "            f2, p2, r2_loss, r2, _ = model(x2, return_feats=True)\n",
    "            l_cl  = scl(p1, p2)\n",
    "            l_rec = r1_loss.mean() + r2_loss.mean()\n",
    "            loss  = alpha_cl * l_cl + alpha_rec * l_rec\n",
    "            opt.zero_grad()\n",
    "            loss.backward()\n",
    "            opt.step()\n",
    "            total += loss.item()\n",
    "\n",
    "        torch.save({\n",
    "            'model': model.state_dict() if not isinstance(model, nn.DataParallel)\n",
    "                              else model.module.state_dict(),\n",
    "            'opt':   opt.state_dict(),\n",
    "            'ep':    ep\n",
    "        }, path)\n",
    "        print(f\"CLP Epoch {ep+1}: {total/len(loader):.4f}\")\n",
    "        \"\"\";\n"
   ]
  },
  {
   "cell_type": "code",
   "execution_count": 138,
   "metadata": {},
   "outputs": [],
   "source": [
    "def train_PLF(model, loader, epochs, lr, ckpt, num_classes, encoder_pre):\n",
    "    path = os.path.join(CHECKPOINT_DIR, ckpt)\n",
    "    # unwrap if DataParallel\n",
    "    base_model = model.module if isinstance(model, nn.DataParallel) else model\n",
    "    embed_dim   = base_model.embed_dim\n",
    "\n",
    "    proto_tensor = torch.randn(num_classes, embed_dim, device=DEVICE)\n",
    "    proto = nn.Parameter(proto_tensor, requires_grad=True)\n",
    "    opt   = torch.optim.Adam(list(model.parameters()) + [proto], lr=lr)\n",
    "    start = 0\n",
    "\n",
    "    # --- load checkpoint if it exists, stripping \"module.\" if necessary\n",
    "    if os.path.exists(path):\n",
    "        ck = torch.load(path, map_location=DEVICE)\n",
    "        raw_sd = ck['model']\n",
    "        sd = {k.replace(\"module.\", \"\"): v for k, v in raw_sd.items()}\n",
    "        model.load_state_dict(sd)\n",
    "        proto.data = ck['proto']\n",
    "        opt.load_state_dict(ck['opt'])\n",
    "        start = ck['ep'] + 1\n",
    "    # ---------------------------------------------------------------\n",
    "\n",
    "    ploss = ProtoLoss()\n",
    "    model.to(DEVICE)\n",
    "\n",
    "    for ep in range(start, epochs):\n",
    "        model.train()\n",
    "        total = 0.0\n",
    "        for x, y in tqdm(loader, desc=f\"PLF Ep{ep+1}\"):\n",
    "            x, y = x.to(DEVICE), y.to(DEVICE)\n",
    "            feats, _, _, _, _ = model(x, return_feats=True)\n",
    "            loss = ploss(feats, proto, y)\n",
    "            opt.zero_grad()\n",
    "            loss.backward()\n",
    "            opt.step()\n",
    "            total += loss.item()\n",
    "\n",
    "        torch.save({\n",
    "            'model': model.state_dict() if not isinstance(model, nn.DataParallel)\n",
    "                              else model.module.state_dict(),\n",
    "            'proto': proto.data,\n",
    "            'opt':   opt.state_dict(),\n",
    "            'ep':    ep\n",
    "        }, path)\n",
    "        print(f\"PLF Epoch {ep+1}: {total/len(loader):.4f}\")\n",
    "\n",
    "    return proto\n"
   ]
  },
  {
   "cell_type": "code",
   "execution_count": 139,
   "metadata": {},
   "outputs": [],
   "source": [
    "\"\"\"\n",
    "# =============================\n",
    "# Training: CLP\n",
    "# =============================\n",
    "def train_CLP(model, loader, epochs, lr, ckpt, alpha_cl=1.0, alpha_rec=1.0):\n",
    "    path = os.path.join(CHECKPOINT_DIR, ckpt)\n",
    "    opt = torch.optim.Adam(model.parameters(), lr=lr)\n",
    "    start = 0\n",
    "    if os.path.exists(path):\n",
    "        ck = torch.load(path)\n",
    "        model.load_state_dict(ck['model'])\n",
    "        opt.load_state_dict(ck['opt'])\n",
    "        start = ck['ep'] + 1\n",
    "    scl = SupConLoss()\n",
    "    model.to(DEVICE)\n",
    "\n",
    "    for ep in range(start, epochs):\n",
    "        model.train()\n",
    "        total = 0.0\n",
    "        for x, y in tqdm(loader, desc=f\"CLP Ep{ep+1}\"):\n",
    "            x, y = x.to(DEVICE), y.to(DEVICE)\n",
    "            x1 = x + 0.05 * torch.randn_like(x)\n",
    "            x2 = x + 0.05 * torch.randn_like(x)\n",
    "            f1, p1, r1_loss, r1, _ = model(x1, return_feats=True)\n",
    "            f2, p2, r2_loss, r2, _ = model(x2, return_feats=True)\n",
    "            l_cl = scl(p1, p2)\n",
    "            l_rec = r1_loss.mean() + r2_loss.mean()\n",
    "            loss = alpha_cl * l_cl + alpha_rec * l_rec\n",
    "            opt.zero_grad()\n",
    "            loss.backward()\n",
    "            opt.step()\n",
    "            total += loss.item()\n",
    "        torch.save({'model': model.state_dict(), 'opt': opt.state_dict(), 'ep': ep}, path)\n",
    "        print(f\"CLP Epoch {ep+1}: {total/len(loader):.4f}\")\n",
    "\n",
    "\n",
    "# =============================\n",
    "# Training: PLF\n",
    "# =============================\n",
    "def train_PLF(model, loader, epochs, lr, ckpt, num_classes, encoder_pre):\n",
    "    path = os.path.join(CHECKPOINT_DIR, ckpt)\n",
    "    # unwrap if DataParallel\n",
    "    base_model = model.module if isinstance(model, nn.DataParallel) else model\n",
    "    embed_dim = base_model.embed_dim\n",
    "    proto_tensor = torch.randn(num_classes, embed_dim, device=DEVICE)\n",
    "    proto = nn.Parameter(proto_tensor, requires_grad=True)\n",
    "    opt = torch.optim.Adam(list(model.parameters()) + [proto], lr=lr)\n",
    "    start = 0\n",
    "    if os.path.exists(path):\n",
    "        ck = torch.load(path)\n",
    "        model.load_state_dict(ck['model'])\n",
    "        proto.data = ck['proto']\n",
    "        opt.load_state_dict(ck['opt'])\n",
    "        start = ck['ep'] + 1\n",
    "    ploss = ProtoLoss()\n",
    "    model.to(DEVICE)\n",
    "\n",
    "    for ep in range(start, epochs):\n",
    "        model.train()\n",
    "        total = 0.0\n",
    "        for x, y in tqdm(loader, desc=f\"PLF Ep{ep+1}\"):\n",
    "            x, y = x.to(DEVICE), y.to(DEVICE)\n",
    "            feats, _, _, _, _ = model(x, return_feats=True)\n",
    "            loss = ploss(feats, proto, y)\n",
    "            opt.zero_grad()\n",
    "            loss.backward()\n",
    "            opt.step()\n",
    "            total += loss.item()\n",
    "        torch.save({'model': model.state_dict(), 'proto': proto.data, 'opt': opt.state_dict(), 'ep': ep}, path)\n",
    "        print(f\"PLF Epoch {ep+1}: {total/len(loader):.4f}\")\n",
    "    return proto\n",
    "\"\"\";\n",
    "    \n",
    "# =============================\n",
    "# Inference\n",
    "# =============================\n",
    "\n",
    "@torch.no_grad()\n",
    "def inference(enc_pre, model, proto, loader, threshold, lamda=1.0):\n",
    "    enc_pre.eval()\n",
    "    model.eval()\n",
    "    preds = []\n",
    "\n",
    "    for x, _ in tqdm(loader, desc=\"Infer\"):\n",
    "        x = x.to(DEVICE)\n",
    "        enc_pre = enc_pre.to(DEVICE)\n",
    "        model = model.to(DEVICE)\n",
    "\n",
    "        _, _, _, _, bef_feats = enc_pre(x, return_feats=True)\n",
    "        feat, _, _, _, aft_feats = model(x, return_feats=True)\n",
    "\n",
    "        # 1. Calculate unknown score\n",
    "        scores = calculate_unknown_score(bef_feats, aft_feats, feat, proto, lamda = lamda)  # shape: (B,)\n",
    "\n",
    "        # 2. Predict the most similar known class\n",
    "        idx = torch.argmax(torch.matmul(F.normalize(feat, dim=1), F.normalize(proto, dim=1).T), dim=1)  # (B,)\n",
    "\n",
    "        # 3. Threshold to filter unknowns\n",
    "        known = scores > threshold\n",
    "        pred = idx.clone()\n",
    "        pred[~known] = -1  # mark unknowns\n",
    "\n",
    "        preds.append(pred.cpu())\n",
    "\n",
    "    return torch.cat(preds, dim=0)"
   ]
  },
  {
   "cell_type": "code",
   "execution_count": 140,
   "metadata": {},
   "outputs": [],
   "source": [
    "# =============================\n",
    "# Submission\n",
    "# =============================\n",
    "def generate_submission(root, preds, db_ds):\n",
    "    sub = pd.read_csv(f\"{root}/sample_submission.csv\")\n",
    "    meta = pd.read_csv(f\"{root}/metadata.csv\")\n",
    "    q = meta[meta['path'].str.contains('/query/')].reset_index(drop=True)\n",
    "    q['pred_idx'] = preds.numpy()\n",
    "\n",
    "    # Step 1: Print raw predicted indices\n",
    "    print(\"\\nRaw predicted indices (pred_idx):\")\n",
    "    print(q[['image_id', 'pred_idx']].head(10))\n",
    "\n",
    "    # Step 2: Index to identity mapping\n",
    "    idx2id = {v: k for k, v in db_ds.id2idx.items()}\n",
    "    q['prediction'] = q['pred_idx'].apply(lambda i: 'new_individual' if i < 0 else idx2id.get(int(i), f\"unknown_{i}\"))\n",
    "\n",
    "    # Step 3: Print mapped predictions\n",
    "    print(\"\\nMapped predictions (after idx2id):\")\n",
    "    print(q[['image_id', 'prediction']].head(10))\n",
    "\n",
    "    # drop the original metadata identity so we don't end up with two columns\n",
    "    q = q.drop(columns=['identity'])\n",
    "\n",
    "    # rename 'prediction' → 'identity' so the output column is called identity\n",
    "    q = q.rename(columns={'prediction':'identity'})\n",
    "\n",
    "    # now merge on image_id and keep the 'identity' column\n",
    "    out = sub[['image_id']].merge(q[['image_id','identity']], on='image_id')\n",
    "\n",
    "    #out = sub[['image_id']].merge(q[['image_id', 'identity']], on='image_id')\n",
    "    #out = sub[['image_id']].merge(q[['image_id','prediction']], on='image_id')\n",
    "\n",
    "\n",
    "    timestamp = time.strftime(\"%Y%m%d-%H%M%S\")\n",
    "    save_path = f'submission_{timestamp}.csv'\n",
    "    out.to_csv(save_path, index=False)\n",
    "\n",
    "    return save_path"
   ]
  },
  {
   "cell_type": "code",
   "execution_count": 141,
   "metadata": {},
   "outputs": [
    {
     "name": "stdout",
     "output_type": "stream",
     "text": [
      "Checkpoint ./checkpoints/clp.pth exists. Restarting training.\n"
     ]
    },
    {
     "name": "stderr",
     "output_type": "stream",
     "text": [
      "CLP Ep1:   0%|          | 0/409 [00:00<?, ?it/s]/Users/matthewjones2/anaconda3/envs/574_animal_clef_env/lib/python3.11/site-packages/torch/utils/data/dataloader.py:683: UserWarning: 'pin_memory' argument is set as true but not supported on MPS now, then device pinned memory won't be used.\n",
      "  warnings.warn(warn_msg)\n",
      "CLP Ep1: 100%|██████████| 409/409 [08:26<00:00,  1.24s/it]\n"
     ]
    },
    {
     "name": "stdout",
     "output_type": "stream",
     "text": [
      "CLP Epoch 1: total=0.6409, cl=2.3755, rec=0.0921\n"
     ]
    },
    {
     "name": "stderr",
     "output_type": "stream",
     "text": [
      "CLP Ep2: 100%|██████████| 409/409 [08:32<00:00,  1.25s/it]\n"
     ]
    },
    {
     "name": "stdout",
     "output_type": "stream",
     "text": [
      "CLP Epoch 2: total=0.5667, cl=2.3089, rec=0.0583\n"
     ]
    },
    {
     "name": "stderr",
     "output_type": "stream",
     "text": [
      "CLP Ep3: 100%|██████████| 409/409 [08:29<00:00,  1.25s/it]\n"
     ]
    },
    {
     "name": "stdout",
     "output_type": "stream",
     "text": [
      "CLP Epoch 3: total=0.5517, cl=2.2947, rec=0.0516\n"
     ]
    },
    {
     "name": "stderr",
     "output_type": "stream",
     "text": [
      "CLP Ep4: 100%|██████████| 409/409 [08:34<00:00,  1.26s/it]\n"
     ]
    },
    {
     "name": "stdout",
     "output_type": "stream",
     "text": [
      "CLP Epoch 4: total=0.5411, cl=2.2879, rec=0.0464\n"
     ]
    },
    {
     "name": "stderr",
     "output_type": "stream",
     "text": [
      "CLP Ep5: 100%|██████████| 409/409 [08:35<00:00,  1.26s/it]\n"
     ]
    },
    {
     "name": "stdout",
     "output_type": "stream",
     "text": [
      "CLP Epoch 5: total=0.5339, cl=2.2811, rec=0.0432\n"
     ]
    },
    {
     "name": "stderr",
     "output_type": "stream",
     "text": [
      "CLP Ep6: 100%|██████████| 409/409 [08:28<00:00,  1.24s/it]\n"
     ]
    },
    {
     "name": "stdout",
     "output_type": "stream",
     "text": [
      "CLP Epoch 6: total=0.5292, cl=2.2765, rec=0.0411\n"
     ]
    },
    {
     "name": "stderr",
     "output_type": "stream",
     "text": [
      "CLP Ep7: 100%|██████████| 409/409 [08:33<00:00,  1.25s/it]\n"
     ]
    },
    {
     "name": "stdout",
     "output_type": "stream",
     "text": [
      "CLP Epoch 7: total=0.5268, cl=2.2739, rec=0.0400\n"
     ]
    },
    {
     "name": "stderr",
     "output_type": "stream",
     "text": [
      "CLP Ep8: 100%|██████████| 409/409 [08:31<00:00,  1.25s/it]\n"
     ]
    },
    {
     "name": "stdout",
     "output_type": "stream",
     "text": [
      "CLP Epoch 8: total=0.5249, cl=2.2732, rec=0.0390\n"
     ]
    },
    {
     "name": "stderr",
     "output_type": "stream",
     "text": [
      "CLP Ep9: 100%|██████████| 409/409 [08:29<00:00,  1.25s/it]\n"
     ]
    },
    {
     "name": "stdout",
     "output_type": "stream",
     "text": [
      "CLP Epoch 9: total=0.5223, cl=2.2712, rec=0.0378\n"
     ]
    },
    {
     "name": "stderr",
     "output_type": "stream",
     "text": [
      "CLP Ep10: 100%|██████████| 409/409 [08:28<00:00,  1.24s/it]\n"
     ]
    },
    {
     "name": "stdout",
     "output_type": "stream",
     "text": [
      "CLP Epoch 10: total=0.5207, cl=2.2711, rec=0.0369\n"
     ]
    },
    {
     "name": "stderr",
     "output_type": "stream",
     "text": [
      "CLP Ep11: 100%|██████████| 409/409 [08:27<00:00,  1.24s/it]\n"
     ]
    },
    {
     "name": "stdout",
     "output_type": "stream",
     "text": [
      "CLP Epoch 11: total=0.5195, cl=2.2708, rec=0.0363\n"
     ]
    },
    {
     "name": "stderr",
     "output_type": "stream",
     "text": [
      "CLP Ep12: 100%|██████████| 409/409 [08:27<00:00,  1.24s/it]\n"
     ]
    },
    {
     "name": "stdout",
     "output_type": "stream",
     "text": [
      "CLP Epoch 12: total=0.5174, cl=2.2685, rec=0.0354\n"
     ]
    },
    {
     "name": "stderr",
     "output_type": "stream",
     "text": [
      "CLP Ep13: 100%|██████████| 409/409 [08:27<00:00,  1.24s/it]\n"
     ]
    },
    {
     "name": "stdout",
     "output_type": "stream",
     "text": [
      "CLP Epoch 13: total=0.5157, cl=2.2666, rec=0.0347\n"
     ]
    },
    {
     "name": "stderr",
     "output_type": "stream",
     "text": [
      "CLP Ep14: 100%|██████████| 409/409 [08:26<00:00,  1.24s/it]\n"
     ]
    },
    {
     "name": "stdout",
     "output_type": "stream",
     "text": [
      "CLP Epoch 14: total=0.5147, cl=2.2675, rec=0.0340\n"
     ]
    },
    {
     "name": "stderr",
     "output_type": "stream",
     "text": [
      "CLP Ep15: 100%|██████████| 409/409 [08:26<00:00,  1.24s/it]\n"
     ]
    },
    {
     "name": "stdout",
     "output_type": "stream",
     "text": [
      "CLP Epoch 15: total=0.5135, cl=2.2665, rec=0.0335\n"
     ]
    },
    {
     "name": "stderr",
     "output_type": "stream",
     "text": [
      "CLP Ep16: 100%|██████████| 409/409 [08:26<00:00,  1.24s/it]\n"
     ]
    },
    {
     "name": "stdout",
     "output_type": "stream",
     "text": [
      "CLP Epoch 16: total=0.5126, cl=2.2661, rec=0.0330\n"
     ]
    },
    {
     "name": "stderr",
     "output_type": "stream",
     "text": [
      "CLP Ep17: 100%|██████████| 409/409 [08:20<00:00,  1.22s/it]\n"
     ]
    },
    {
     "name": "stdout",
     "output_type": "stream",
     "text": [
      "CLP Epoch 17: total=0.5116, cl=2.2650, rec=0.0326\n"
     ]
    },
    {
     "name": "stderr",
     "output_type": "stream",
     "text": [
      "CLP Ep18: 100%|██████████| 409/409 [08:21<00:00,  1.23s/it]\n"
     ]
    },
    {
     "name": "stdout",
     "output_type": "stream",
     "text": [
      "CLP Epoch 18: total=0.5106, cl=2.2639, rec=0.0321\n"
     ]
    },
    {
     "name": "stderr",
     "output_type": "stream",
     "text": [
      "CLP Ep19: 100%|██████████| 409/409 [08:21<00:00,  1.23s/it]\n"
     ]
    },
    {
     "name": "stdout",
     "output_type": "stream",
     "text": [
      "CLP Epoch 19: total=0.5098, cl=2.2636, rec=0.0317\n"
     ]
    },
    {
     "name": "stderr",
     "output_type": "stream",
     "text": [
      "CLP Ep20: 100%|██████████| 409/409 [08:22<00:00,  1.23s/it]\n"
     ]
    },
    {
     "name": "stdout",
     "output_type": "stream",
     "text": [
      "CLP Epoch 20: total=0.5091, cl=2.2638, rec=0.0313\n"
     ]
    },
    {
     "name": "stderr",
     "output_type": "stream",
     "text": [
      "CLP Ep21: 100%|██████████| 409/409 [08:26<00:00,  1.24s/it]\n"
     ]
    },
    {
     "name": "stdout",
     "output_type": "stream",
     "text": [
      "CLP Epoch 21: total=0.5086, cl=2.2635, rec=0.0311\n"
     ]
    },
    {
     "name": "stderr",
     "output_type": "stream",
     "text": [
      "CLP Ep22: 100%|██████████| 409/409 [08:27<00:00,  1.24s/it]\n"
     ]
    },
    {
     "name": "stdout",
     "output_type": "stream",
     "text": [
      "CLP Epoch 22: total=0.5076, cl=2.2624, rec=0.0306\n"
     ]
    },
    {
     "name": "stderr",
     "output_type": "stream",
     "text": [
      "CLP Ep23: 100%|██████████| 409/409 [08:25<00:00,  1.24s/it]\n"
     ]
    },
    {
     "name": "stdout",
     "output_type": "stream",
     "text": [
      "CLP Epoch 23: total=0.5072, cl=2.2631, rec=0.0303\n"
     ]
    },
    {
     "name": "stderr",
     "output_type": "stream",
     "text": [
      "CLP Ep24: 100%|██████████| 409/409 [08:19<00:00,  1.22s/it]\n"
     ]
    },
    {
     "name": "stdout",
     "output_type": "stream",
     "text": [
      "CLP Epoch 24: total=0.5061, cl=2.2607, rec=0.0300\n"
     ]
    },
    {
     "name": "stderr",
     "output_type": "stream",
     "text": [
      "CLP Ep25: 100%|██████████| 409/409 [08:20<00:00,  1.22s/it]\n"
     ]
    },
    {
     "name": "stdout",
     "output_type": "stream",
     "text": [
      "CLP Epoch 25: total=0.5057, cl=2.2617, rec=0.0296\n"
     ]
    },
    {
     "name": "stderr",
     "output_type": "stream",
     "text": [
      "CLP Ep26: 100%|██████████| 409/409 [08:22<00:00,  1.23s/it]\n"
     ]
    },
    {
     "name": "stdout",
     "output_type": "stream",
     "text": [
      "CLP Epoch 26: total=0.5051, cl=2.2615, rec=0.0293\n"
     ]
    },
    {
     "name": "stderr",
     "output_type": "stream",
     "text": [
      "CLP Ep27: 100%|██████████| 409/409 [08:23<00:00,  1.23s/it]\n"
     ]
    },
    {
     "name": "stdout",
     "output_type": "stream",
     "text": [
      "CLP Epoch 27: total=0.5043, cl=2.2605, rec=0.0290\n"
     ]
    },
    {
     "name": "stderr",
     "output_type": "stream",
     "text": [
      "CLP Ep28: 100%|██████████| 409/409 [08:22<00:00,  1.23s/it]\n"
     ]
    },
    {
     "name": "stdout",
     "output_type": "stream",
     "text": [
      "CLP Epoch 28: total=0.5039, cl=2.2604, rec=0.0288\n"
     ]
    },
    {
     "name": "stderr",
     "output_type": "stream",
     "text": [
      "CLP Ep29: 100%|██████████| 409/409 [08:22<00:00,  1.23s/it]\n"
     ]
    },
    {
     "name": "stdout",
     "output_type": "stream",
     "text": [
      "CLP Epoch 29: total=0.5033, cl=2.2600, rec=0.0285\n"
     ]
    },
    {
     "name": "stderr",
     "output_type": "stream",
     "text": [
      "CLP Ep30: 100%|██████████| 409/409 [08:22<00:00,  1.23s/it]\n"
     ]
    },
    {
     "name": "stdout",
     "output_type": "stream",
     "text": [
      "CLP Epoch 30: total=0.5030, cl=2.2602, rec=0.0283\n"
     ]
    },
    {
     "data": {
      "image/png": "[encoded data removed]",
      "text/plain": [
       "<Figure size 640x480 with 1 Axes>"
      ]
     },
     "metadata": {},
     "output_type": "display_data"
    },
    {
     "name": "stdout",
     "output_type": "stream",
     "text": [
      "Prototype shape: torch.Size([1102, 768])\n",
      "Number of unique classes: 1102\n"
     ]
    },
    {
     "name": "stderr",
     "output_type": "stream",
     "text": [
      "Infer: 100%|██████████| 67/67 [00:48<00:00,  1.39it/s]"
     ]
    },
    {
     "name": "stdout",
     "output_type": "stream",
     "text": [
      "Saving submission…\n",
      "\n",
      "Raw predicted indices (pred_idx):\n",
      "   image_id  pred_idx\n",
      "0         3        -1\n",
      "1         5        24\n",
      "2        12        -1\n",
      "3        13        -1\n",
      "4        18        -1\n",
      "5        19        -1\n",
      "6        27        -1\n",
      "7        33        -1\n",
      "8        36        -1\n",
      "9        45        -1\n",
      "\n",
      "Mapped predictions (after idx2id):\n",
      "   image_id          prediction\n",
      "0         3      new_individual\n",
      "1         5  LynxID2025_lynx_32\n",
      "2        12      new_individual\n",
      "3        13      new_individual\n",
      "4        18      new_individual\n",
      "5        19      new_individual\n",
      "6        27      new_individual\n",
      "7        33      new_individual\n",
      "8        36      new_individual\n",
      "9        45      new_individual\n"
     ]
    },
    {
     "name": "stderr",
     "output_type": "stream",
     "text": [
      "\n"
     ]
    }
   ],
   "source": [
    "# =============================\n",
    "# Main Workflow\n",
    "# =============================\n",
    "def main():\n",
    "    #root = '/kaggle/input/animal-clef-2025'\n",
    "    tf = transforms.Compose([\n",
    "        transforms.Resize((IMAGE_SIZE, IMAGE_SIZE)),\n",
    "        transforms.ToTensor()\n",
    "    ])\n",
    "    #idx2id = {v: k for k, v in db_ds.id2idx.items()}\n",
    "\n",
    "    db_ds = AnimalCLEFDataset(root, 'database', transform=tf)\n",
    "    \n",
    "    #print(\"Example metadata path[0]:\", db_ds.paths[0])\n",
    "    #print(\"Looking for file at:\", os.path.join(db_ds.root, db_ds.paths[0]))\n",
    "    #print(\"Exists on disk?\", os.path.exists(os.path.join(db_ds.root, db_ds.paths[0])))\n",
    "    \n",
    "    db_loader = DataLoader(db_ds, batch_size = BATCH_SIZE, shuffle=True,\n",
    "                           num_workers=NUM_WORKERS, pin_memory=True)\n",
    "    query_ds = AnimalCLEFDataset(root, 'query', transform=tf)\n",
    "    q_loader = DataLoader(query_ds, batch_size = BATCH_SIZE, shuffle=False,\n",
    "                           num_workers=NUM_WORKERS, pin_memory=True)\n",
    "\n",
    "    clp_model = MAEFramework()\n",
    "    plf_model = MAEFramework()\n",
    "\n",
    "    # pick your device\n",
    "    if torch.backends.mps.is_available() and torch.backends.mps.is_built():\n",
    "        DEVICE = torch.device(\"mps\")\n",
    "    elif torch.cuda.is_available():\n",
    "        DEVICE = torch.device(\"cuda\")\n",
    "    else:\n",
    "        DEVICE = torch.device(\"cpu\")\n",
    "\n",
    "    # decide which GPUs to wrap\n",
    "    cuda_gpus = torch.cuda.device_count()\n",
    "    if DEVICE.type == \"cuda\" and cuda_gpus > 1:\n",
    "        device_ids = list(range(cuda_gpus))  # e.g. [0,1,…]\n",
    "        clp_model = nn.DataParallel(clp_model,  device_ids=device_ids).to(DEVICE)\n",
    "        plf_model = nn.DataParallel(plf_model,  device_ids=device_ids).to(DEVICE)\n",
    "    else:\n",
    "        # single‐device: MPS, single CUDA, or CPU\n",
    "        clp_model = clp_model.to(DEVICE)\n",
    "        plf_model = plf_model.to(DEVICE)\n",
    "\n",
    "    # now training and inference will work on either MPS or CUDA\n",
    "    #train_CLP(clp_model, db_loader, EPOCHS_CLP, LR,  'clp.pth', alpha_cl = ALPHA_CL, alpha_rec = ALPHA_REC)\n",
    "    \n",
    "    clp_model, cl_hist, rec_hist, tot_hist = train_CLP(\n",
    "        clp_model, db_loader, EPOCHS_CLP, LR, 'clp.pth',\n",
    "        alpha_cl=ALPHA_CL, alpha_rec=ALPHA_REC, force_restart=FORCE_TRAIN_RESTART)\n",
    "    \n",
    "    epochs = list(range(1, len(cl_hist)+1))\n",
    "    plt.plot(epochs, cl_hist, label='Contrastive Loss')\n",
    "    plt.plot(epochs, rec_hist, label='Reconstruction Loss')\n",
    "    plt.plot(epochs, tot_hist, label='Total Loss')\n",
    "\n",
    "    plt.title(f'CLP Losses (α_cl={ALPHA_CL}, α_rec={ALPHA_REC}, λ={LAMBDA}, batch={BATCH_SIZE})')\n",
    "    plt.xlabel('Epoch')\n",
    "    plt.ylabel('Loss')\n",
    "    plt.legend()\n",
    "    plt.show()\n",
    "\n",
    "    prototype = train_PLF(plf_model, db_loader, EPOCHS_PLF, LR,\n",
    "                          'plf.pth', len(db_ds.id2idx), clp_model)\n",
    "    \n",
    "\n",
    "    \n",
    "    print(\"Prototype shape:\", prototype.shape)\n",
    "    print(\"Number of unique classes:\", len(db_ds.id2idx))\n",
    "\n",
    "    # Plot the score distribution before estimating threshold\n",
    "    #plot_score_distribution(clp_model, plf_model, prototype, db_loader)\n",
    "\n",
    "    # Estimate threshold from database distribution\n",
    "    dists = []\n",
    "    with torch.no_grad():\n",
    "        for x, _ in DataLoader(db_ds, batch_size = BATCH_SIZE, shuffle=False,\n",
    "                               num_workers=NUM_WORKERS, pin_memory=True):\n",
    "            x = x.to(DEVICE)\n",
    "            feat, _, _, _, aft_feats = plf_model(x, return_feats=True)\n",
    "            _, _, _, _, bef_feats = clp_model(x, return_feats=True)\n",
    "            scores = calculate_unknown_score(bef_feats, aft_feats, feat, prototype, lamda = LAMBDA)\n",
    "            dists.extend(scores.cpu().tolist())\n",
    "\n",
    "\n",
    "    threshold = torch.quantile(torch.tensor(dists), 0.95).item()\n",
    "\n",
    "\n",
    "    # Inference on query set\n",
    "    with torch.no_grad():\n",
    "        #lamda = 0.2 # or any value you want to test\n",
    "        preds = inference(clp_model, plf_model, prototype, q_loader, threshold, lamda = LAMBDA)\n",
    "\n",
    "\n",
    "    print(\"Saving submission…\")\n",
    "    generate_submission(root, preds, db_ds)\n",
    "\n",
    "if __name__ == '__main__':\n",
    "    main()\n"
   ]
  },
  {
   "cell_type": "code",
   "execution_count": 142,
   "metadata": {},
   "outputs": [],
   "source": [
    "#preds = inference(clp_model, plf_model, prototype, q_loader, threshold, lamda=lamda)\n",
    "#print(\"Saving submission…\")\n",
    "#generate_submission(root, preds, db_ds)"
   ]
  },
  {
   "cell_type": "code",
   "execution_count": null,
   "metadata": {
    "_cell_guid": "b1076dfc-b9ad-4769-8c92-a6c4dae69d19",
    "_uuid": "8f2839f25d086af736a60e9eeb907d3b93b6e0e5",
    "execution": {
     "iopub.execute_input": "2025-05-09T03:44:13.919371Z",
     "iopub.status.busy": "2025-05-09T03:44:13.918842Z",
     "iopub.status.idle": "2025-05-09T04:18:59.475615Z",
     "shell.execute_reply": "2025-05-09T04:18:59.474736Z",
     "shell.execute_reply.started": "2025-05-09T03:44:13.919346Z"
    },
    "trusted": true
   },
   "outputs": [],
   "source": [
    "\n",
    "\n",
    "\n",
    "\n",
    "\n",
    "\n",
    " \n"
   ]
  },
  {
   "cell_type": "code",
   "execution_count": null,
   "metadata": {
    "trusted": true
   },
   "outputs": [],
   "source": []
  },
  {
   "cell_type": "code",
   "execution_count": null,
   "metadata": {
    "trusted": true
   },
   "outputs": [],
   "source": []
  },
  {
   "cell_type": "code",
   "execution_count": null,
   "metadata": {
    "trusted": true
   },
   "outputs": [],
   "source": []
  },
  {
   "cell_type": "code",
   "execution_count": null,
   "metadata": {
    "trusted": true
   },
   "outputs": [],
   "source": []
  },
  {
   "cell_type": "code",
   "execution_count": null,
   "metadata": {
    "trusted": true
   },
   "outputs": [],
   "source": []
  }
 ],
 "metadata": {
  "kaggle": {
   "accelerator": "nvidiaTeslaT4",
   "dataSources": [
    {
     "databundleVersionId": 11223220,
     "sourceId": 91451,
     "sourceType": "competition"
    }
   ],
   "dockerImageVersionId": 31011,
   "isGpuEnabled": true,
   "isInternetEnabled": true,
   "language": "python",
   "sourceType": "notebook"
  },
  "kernelspec": {
   "display_name": "574_animal_clef_env",
   "language": "python",
   "name": "python3"
  },
  "language_info": {
   "codemirror_mode": {
    "name": "ipython",
    "version": 3
   },
   "file_extension": ".py",
   "mimetype": "text/x-python",
   "name": "python",
   "nbconvert_exporter": "python",
   "pygments_lexer": "ipython3",
   "version": "3.11.11"
  }
 },
 "nbformat": 4,
 "nbformat_minor": 4
}
