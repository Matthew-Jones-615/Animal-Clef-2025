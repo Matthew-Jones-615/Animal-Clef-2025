{
 "cells": [
  {
   "cell_type": "markdown",
   "metadata": {},
   "source": [
    "# 🐾 AnimalCLEF2025 Competition: Official Starter notebook\n",
    "\n",
    "The **Goal of the** [AnimalCLEF2025](https://www.kaggle.com/competitions/animal-clef-2025/) competition is to identify individual animal (lynxes, salamanders and sea turtles) in photos. This notebook visualize the provided dataset and propose a baseline solution, based on the state-of-the-art re-identification model [MegaDescriptor](https://huggingface.co/BVRA/MegaDescriptor-L-384). The dataset is split into the database and query sets. For each image from the query set, the goal is to:\n",
    "\n",
    "- Predict whether the depicted individual is in the database.\n",
    "- If no, the prediction is `new_individual`.\n",
    "- If yes, the prediction should be the same as the individual in the database."
   ]
  },
  {
   "cell_type": "markdown",
   "metadata": {
    "execution": {
     "iopub.execute_input": "2025-02-28T16:18:13.120497Z",
     "iopub.status.busy": "2025-02-28T16:18:13.120141Z",
     "iopub.status.idle": "2025-02-28T16:18:13.1244Z",
     "shell.execute_reply": "2025-02-28T16:18:13.12338Z",
     "shell.execute_reply.started": "2025-02-28T16:18:13.120467Z"
    }
   },
   "source": [
    "## Dependencies instalation\n",
    "For the competition we provide two Python packages for loading and preprocessing of available datasets ([wildlife-datasets](https://github.com/WildlifeDatasets/wildlife-datasets)) and tools / method for animal re-identification ([wildlife-tools](https://github.com/WildlifeDatasets/wildlife-tools))."
   ]
  },
  {
   "cell_type": "code",
   "execution_count": 2,
   "metadata": {
    "_kg_hide-output": true,
    "execution": {
     "iopub.execute_input": "2025-02-28T19:02:09.384455Z",
     "iopub.status.busy": "2025-02-28T19:02:09.384161Z",
     "iopub.status.idle": "2025-02-28T19:02:48.987210Z",
     "shell.execute_reply": "2025-02-28T19:02:48.986046Z",
     "shell.execute_reply.started": "2025-02-28T19:02:09.384420Z"
    },
    "trusted": true
   },
   "outputs": [
    {
     "name": "stdout",
     "output_type": "stream",
     "text": [
      "Collecting git+https://github.com/WildlifeDatasets/wildlife-datasets@develop\n",
      "  Cloning https://github.com/WildlifeDatasets/wildlife-datasets (to revision develop) to /private/var/folders/jk/m2f13ljx3sjfvd1yqj017pk80000gn/T/pip-req-build-c61mu6vz\n",
      "  Running command git clone --filter=blob:none --quiet https://github.com/WildlifeDatasets/wildlife-datasets /private/var/folders/jk/m2f13ljx3sjfvd1yqj017pk80000gn/T/pip-req-build-c61mu6vz\n",
      "  Running command git checkout -b develop --track origin/develop\n",
      "  Switched to a new branch 'develop'\n",
      "  branch 'develop' set up to track 'origin/develop'.\n",
      "  Resolved https://github.com/WildlifeDatasets/wildlife-datasets to commit 753d9bf64861c3e17011136b3436bf58bf02317f\n",
      "  Installing build dependencies ... \u001b[?25ldone\n",
      "\u001b[?25h  Getting requirements to build wheel ... \u001b[?25ldone\n",
      "\u001b[?25h  Preparing metadata (pyproject.toml) ... \u001b[?25ldone\n",
      "\u001b[?25hRequirement already satisfied: numpy>=1.19.4 in /Users/matthewjones2/anaconda3/envs/574_animal_clef_env/lib/python3.11/site-packages (from wildlife-datasets==1.0.6) (2.2.5)\n",
      "Requirement already satisfied: pandas>=1.1.4 in /Users/matthewjones2/anaconda3/envs/574_animal_clef_env/lib/python3.11/site-packages (from wildlife-datasets==1.0.6) (2.2.3)\n",
      "Requirement already satisfied: tqdm>=4.62.3 in /Users/matthewjones2/anaconda3/envs/574_animal_clef_env/lib/python3.11/site-packages (from wildlife-datasets==1.0.6) (4.67.1)\n",
      "Requirement already satisfied: opencv-python>=4.5.5.62 in /Users/matthewjones2/anaconda3/envs/574_animal_clef_env/lib/python3.11/site-packages (from wildlife-datasets==1.0.6) (4.11.0.86)\n",
      "Requirement already satisfied: Pillow>=7.1.2 in /Users/matthewjones2/anaconda3/envs/574_animal_clef_env/lib/python3.11/site-packages (from wildlife-datasets==1.0.6) (11.2.1)\n",
      "Requirement already satisfied: scikit-learn>=1.0.1 in /Users/matthewjones2/anaconda3/envs/574_animal_clef_env/lib/python3.11/site-packages (from wildlife-datasets==1.0.6) (1.6.1)\n",
      "Requirement already satisfied: matplotlib>=3.5.1 in /Users/matthewjones2/anaconda3/envs/574_animal_clef_env/lib/python3.11/site-packages (from wildlife-datasets==1.0.6) (3.10.3)\n",
      "Requirement already satisfied: pycocotools>=2.0.1 in /Users/matthewjones2/anaconda3/envs/574_animal_clef_env/lib/python3.11/site-packages (from wildlife-datasets==1.0.6) (2.0.8)\n",
      "Requirement already satisfied: datasets in /Users/matthewjones2/anaconda3/envs/574_animal_clef_env/lib/python3.11/site-packages (from wildlife-datasets==1.0.6) (3.6.0)\n",
      "Requirement already satisfied: gdown in /Users/matthewjones2/anaconda3/envs/574_animal_clef_env/lib/python3.11/site-packages (from wildlife-datasets==1.0.6) (5.2.0)\n",
      "Requirement already satisfied: kaggle in /Users/matthewjones2/anaconda3/envs/574_animal_clef_env/lib/python3.11/site-packages (from wildlife-datasets==1.0.6) (1.7.4.5)\n",
      "Requirement already satisfied: contourpy>=1.0.1 in /Users/matthewjones2/anaconda3/envs/574_animal_clef_env/lib/python3.11/site-packages (from matplotlib>=3.5.1->wildlife-datasets==1.0.6) (1.3.2)\n",
      "Requirement already satisfied: cycler>=0.10 in /Users/matthewjones2/anaconda3/envs/574_animal_clef_env/lib/python3.11/site-packages (from matplotlib>=3.5.1->wildlife-datasets==1.0.6) (0.12.1)\n",
      "Requirement already satisfied: fonttools>=4.22.0 in /Users/matthewjones2/anaconda3/envs/574_animal_clef_env/lib/python3.11/site-packages (from matplotlib>=3.5.1->wildlife-datasets==1.0.6) (4.57.0)\n",
      "Requirement already satisfied: kiwisolver>=1.3.1 in /Users/matthewjones2/anaconda3/envs/574_animal_clef_env/lib/python3.11/site-packages (from matplotlib>=3.5.1->wildlife-datasets==1.0.6) (1.4.8)\n",
      "Requirement already satisfied: packaging>=20.0 in /Users/matthewjones2/anaconda3/envs/574_animal_clef_env/lib/python3.11/site-packages (from matplotlib>=3.5.1->wildlife-datasets==1.0.6) (25.0)\n",
      "Requirement already satisfied: pyparsing>=2.3.1 in /Users/matthewjones2/anaconda3/envs/574_animal_clef_env/lib/python3.11/site-packages (from matplotlib>=3.5.1->wildlife-datasets==1.0.6) (3.2.3)\n",
      "Requirement already satisfied: python-dateutil>=2.7 in /Users/matthewjones2/anaconda3/envs/574_animal_clef_env/lib/python3.11/site-packages (from matplotlib>=3.5.1->wildlife-datasets==1.0.6) (2.9.0.post0)\n",
      "Requirement already satisfied: pytz>=2020.1 in /Users/matthewjones2/anaconda3/envs/574_animal_clef_env/lib/python3.11/site-packages (from pandas>=1.1.4->wildlife-datasets==1.0.6) (2025.2)\n",
      "Requirement already satisfied: tzdata>=2022.7 in /Users/matthewjones2/anaconda3/envs/574_animal_clef_env/lib/python3.11/site-packages (from pandas>=1.1.4->wildlife-datasets==1.0.6) (2025.2)\n",
      "Requirement already satisfied: six>=1.5 in /Users/matthewjones2/anaconda3/envs/574_animal_clef_env/lib/python3.11/site-packages (from python-dateutil>=2.7->matplotlib>=3.5.1->wildlife-datasets==1.0.6) (1.17.0)\n",
      "Requirement already satisfied: scipy>=1.6.0 in /Users/matthewjones2/anaconda3/envs/574_animal_clef_env/lib/python3.11/site-packages (from scikit-learn>=1.0.1->wildlife-datasets==1.0.6) (1.15.3)\n",
      "Requirement already satisfied: joblib>=1.2.0 in /Users/matthewjones2/anaconda3/envs/574_animal_clef_env/lib/python3.11/site-packages (from scikit-learn>=1.0.1->wildlife-datasets==1.0.6) (1.5.0)\n",
      "Requirement already satisfied: threadpoolctl>=3.1.0 in /Users/matthewjones2/anaconda3/envs/574_animal_clef_env/lib/python3.11/site-packages (from scikit-learn>=1.0.1->wildlife-datasets==1.0.6) (3.6.0)\n",
      "Requirement already satisfied: filelock in /Users/matthewjones2/anaconda3/envs/574_animal_clef_env/lib/python3.11/site-packages (from datasets->wildlife-datasets==1.0.6) (3.18.0)\n",
      "Requirement already satisfied: pyarrow>=15.0.0 in /Users/matthewjones2/anaconda3/envs/574_animal_clef_env/lib/python3.11/site-packages (from datasets->wildlife-datasets==1.0.6) (20.0.0)\n",
      "Requirement already satisfied: dill<0.3.9,>=0.3.0 in /Users/matthewjones2/anaconda3/envs/574_animal_clef_env/lib/python3.11/site-packages (from datasets->wildlife-datasets==1.0.6) (0.3.8)\n",
      "Requirement already satisfied: requests>=2.32.2 in /Users/matthewjones2/anaconda3/envs/574_animal_clef_env/lib/python3.11/site-packages (from datasets->wildlife-datasets==1.0.6) (2.32.3)\n",
      "Requirement already satisfied: xxhash in /Users/matthewjones2/anaconda3/envs/574_animal_clef_env/lib/python3.11/site-packages (from datasets->wildlife-datasets==1.0.6) (3.5.0)\n",
      "Requirement already satisfied: multiprocess<0.70.17 in /Users/matthewjones2/anaconda3/envs/574_animal_clef_env/lib/python3.11/site-packages (from datasets->wildlife-datasets==1.0.6) (0.70.16)\n",
      "Requirement already satisfied: fsspec<=2025.3.0,>=2023.1.0 in /Users/matthewjones2/anaconda3/envs/574_animal_clef_env/lib/python3.11/site-packages (from fsspec[http]<=2025.3.0,>=2023.1.0->datasets->wildlife-datasets==1.0.6) (2025.3.0)\n",
      "Requirement already satisfied: huggingface-hub>=0.24.0 in /Users/matthewjones2/anaconda3/envs/574_animal_clef_env/lib/python3.11/site-packages (from datasets->wildlife-datasets==1.0.6) (0.31.1)\n",
      "Requirement already satisfied: pyyaml>=5.1 in /Users/matthewjones2/anaconda3/envs/574_animal_clef_env/lib/python3.11/site-packages (from datasets->wildlife-datasets==1.0.6) (6.0.2)\n",
      "Requirement already satisfied: aiohttp!=4.0.0a0,!=4.0.0a1 in /Users/matthewjones2/anaconda3/envs/574_animal_clef_env/lib/python3.11/site-packages (from fsspec[http]<=2025.3.0,>=2023.1.0->datasets->wildlife-datasets==1.0.6) (3.11.18)\n",
      "Requirement already satisfied: aiohappyeyeballs>=2.3.0 in /Users/matthewjones2/anaconda3/envs/574_animal_clef_env/lib/python3.11/site-packages (from aiohttp!=4.0.0a0,!=4.0.0a1->fsspec[http]<=2025.3.0,>=2023.1.0->datasets->wildlife-datasets==1.0.6) (2.6.1)\n",
      "Requirement already satisfied: aiosignal>=1.1.2 in /Users/matthewjones2/anaconda3/envs/574_animal_clef_env/lib/python3.11/site-packages (from aiohttp!=4.0.0a0,!=4.0.0a1->fsspec[http]<=2025.3.0,>=2023.1.0->datasets->wildlife-datasets==1.0.6) (1.3.2)\n",
      "Requirement already satisfied: attrs>=17.3.0 in /Users/matthewjones2/anaconda3/envs/574_animal_clef_env/lib/python3.11/site-packages (from aiohttp!=4.0.0a0,!=4.0.0a1->fsspec[http]<=2025.3.0,>=2023.1.0->datasets->wildlife-datasets==1.0.6) (25.3.0)\n",
      "Requirement already satisfied: frozenlist>=1.1.1 in /Users/matthewjones2/anaconda3/envs/574_animal_clef_env/lib/python3.11/site-packages (from aiohttp!=4.0.0a0,!=4.0.0a1->fsspec[http]<=2025.3.0,>=2023.1.0->datasets->wildlife-datasets==1.0.6) (1.6.0)\n",
      "Requirement already satisfied: multidict<7.0,>=4.5 in /Users/matthewjones2/anaconda3/envs/574_animal_clef_env/lib/python3.11/site-packages (from aiohttp!=4.0.0a0,!=4.0.0a1->fsspec[http]<=2025.3.0,>=2023.1.0->datasets->wildlife-datasets==1.0.6) (6.4.3)\n",
      "Requirement already satisfied: propcache>=0.2.0 in /Users/matthewjones2/anaconda3/envs/574_animal_clef_env/lib/python3.11/site-packages (from aiohttp!=4.0.0a0,!=4.0.0a1->fsspec[http]<=2025.3.0,>=2023.1.0->datasets->wildlife-datasets==1.0.6) (0.3.1)\n",
      "Requirement already satisfied: yarl<2.0,>=1.17.0 in /Users/matthewjones2/anaconda3/envs/574_animal_clef_env/lib/python3.11/site-packages (from aiohttp!=4.0.0a0,!=4.0.0a1->fsspec[http]<=2025.3.0,>=2023.1.0->datasets->wildlife-datasets==1.0.6) (1.20.0)\n",
      "Requirement already satisfied: idna>=2.0 in /Users/matthewjones2/anaconda3/envs/574_animal_clef_env/lib/python3.11/site-packages (from yarl<2.0,>=1.17.0->aiohttp!=4.0.0a0,!=4.0.0a1->fsspec[http]<=2025.3.0,>=2023.1.0->datasets->wildlife-datasets==1.0.6) (3.10)\n",
      "Requirement already satisfied: typing-extensions>=3.7.4.3 in /Users/matthewjones2/anaconda3/envs/574_animal_clef_env/lib/python3.11/site-packages (from huggingface-hub>=0.24.0->datasets->wildlife-datasets==1.0.6) (4.13.2)\n",
      "Requirement already satisfied: hf-xet<2.0.0,>=1.1.0 in /Users/matthewjones2/anaconda3/envs/574_animal_clef_env/lib/python3.11/site-packages (from huggingface-hub>=0.24.0->datasets->wildlife-datasets==1.0.6) (1.1.0)\n",
      "Requirement already satisfied: charset-normalizer<4,>=2 in /Users/matthewjones2/anaconda3/envs/574_animal_clef_env/lib/python3.11/site-packages (from requests>=2.32.2->datasets->wildlife-datasets==1.0.6) (3.4.2)\n",
      "Requirement already satisfied: urllib3<3,>=1.21.1 in /Users/matthewjones2/anaconda3/envs/574_animal_clef_env/lib/python3.11/site-packages (from requests>=2.32.2->datasets->wildlife-datasets==1.0.6) (2.4.0)\n",
      "Requirement already satisfied: certifi>=2017.4.17 in /Users/matthewjones2/anaconda3/envs/574_animal_clef_env/lib/python3.11/site-packages (from requests>=2.32.2->datasets->wildlife-datasets==1.0.6) (2025.4.26)\n",
      "Requirement already satisfied: beautifulsoup4 in /Users/matthewjones2/anaconda3/envs/574_animal_clef_env/lib/python3.11/site-packages (from gdown->wildlife-datasets==1.0.6) (4.13.4)\n",
      "Requirement already satisfied: soupsieve>1.2 in /Users/matthewjones2/anaconda3/envs/574_animal_clef_env/lib/python3.11/site-packages (from beautifulsoup4->gdown->wildlife-datasets==1.0.6) (2.7)\n",
      "Requirement already satisfied: bleach in /Users/matthewjones2/anaconda3/envs/574_animal_clef_env/lib/python3.11/site-packages (from kaggle->wildlife-datasets==1.0.6) (6.2.0)\n",
      "Requirement already satisfied: protobuf in /Users/matthewjones2/anaconda3/envs/574_animal_clef_env/lib/python3.11/site-packages (from kaggle->wildlife-datasets==1.0.6) (6.30.2)\n",
      "Requirement already satisfied: python-slugify in /Users/matthewjones2/anaconda3/envs/574_animal_clef_env/lib/python3.11/site-packages (from kaggle->wildlife-datasets==1.0.6) (8.0.4)\n",
      "Requirement already satisfied: setuptools>=21.0.0 in /Users/matthewjones2/anaconda3/envs/574_animal_clef_env/lib/python3.11/site-packages (from kaggle->wildlife-datasets==1.0.6) (78.1.1)\n",
      "Requirement already satisfied: text-unidecode in /Users/matthewjones2/anaconda3/envs/574_animal_clef_env/lib/python3.11/site-packages (from kaggle->wildlife-datasets==1.0.6) (1.3)\n",
      "Requirement already satisfied: webencodings in /Users/matthewjones2/anaconda3/envs/574_animal_clef_env/lib/python3.11/site-packages (from kaggle->wildlife-datasets==1.0.6) (0.5.1)\n",
      "Requirement already satisfied: PySocks!=1.5.7,>=1.5.6 in /Users/matthewjones2/anaconda3/envs/574_animal_clef_env/lib/python3.11/site-packages (from requests[socks]->gdown->wildlife-datasets==1.0.6) (1.7.1)\n",
      "Collecting git+https://github.com/WildlifeDatasets/wildlife-tools\n",
      "  Cloning https://github.com/WildlifeDatasets/wildlife-tools to /private/var/folders/jk/m2f13ljx3sjfvd1yqj017pk80000gn/T/pip-req-build-epdeygpz\n",
      "  Running command git clone --filter=blob:none --quiet https://github.com/WildlifeDatasets/wildlife-tools /private/var/folders/jk/m2f13ljx3sjfvd1yqj017pk80000gn/T/pip-req-build-epdeygpz\n",
      "  Resolved https://github.com/WildlifeDatasets/wildlife-tools to commit 71aa4656d16afe4caae6d84af642bab81dc2d06d\n",
      "  Installing build dependencies ... \u001b[?25ldone\n",
      "\u001b[?25h  Getting requirements to build wheel ... \u001b[?25ldone\n",
      "\u001b[?25h  Preparing metadata (pyproject.toml) ... \u001b[?25ldone\n",
      "\u001b[?25hRequirement already satisfied: torch>=2.0.1 in /Users/matthewjones2/anaconda3/envs/574_animal_clef_env/lib/python3.11/site-packages (from wildlife-tools==1.0.1) (2.7.0)\n",
      "Requirement already satisfied: timm>=0.9.2 in /Users/matthewjones2/anaconda3/envs/574_animal_clef_env/lib/python3.11/site-packages (from wildlife-tools==1.0.1) (1.0.15)\n",
      "Requirement already satisfied: numpy>=1.19.4 in /Users/matthewjones2/anaconda3/envs/574_animal_clef_env/lib/python3.11/site-packages (from wildlife-tools==1.0.1) (2.2.5)\n",
      "Requirement already satisfied: pandas>=1.1.4 in /Users/matthewjones2/anaconda3/envs/574_animal_clef_env/lib/python3.11/site-packages (from wildlife-tools==1.0.1) (2.2.3)\n",
      "Requirement already satisfied: tqdm>=4.62.3 in /Users/matthewjones2/anaconda3/envs/574_animal_clef_env/lib/python3.11/site-packages (from wildlife-tools==1.0.1) (4.67.1)\n",
      "Requirement already satisfied: opencv-python>=4.5.5.62 in /Users/matthewjones2/anaconda3/envs/574_animal_clef_env/lib/python3.11/site-packages (from wildlife-tools==1.0.1) (4.11.0.86)\n",
      "Requirement already satisfied: Pillow>=7.1.2 in /Users/matthewjones2/anaconda3/envs/574_animal_clef_env/lib/python3.11/site-packages (from wildlife-tools==1.0.1) (11.2.1)\n",
      "Requirement already satisfied: scikit-learn>=1.0.1 in /Users/matthewjones2/anaconda3/envs/574_animal_clef_env/lib/python3.11/site-packages (from wildlife-tools==1.0.1) (1.6.1)\n",
      "Requirement already satisfied: pycocotools in /Users/matthewjones2/anaconda3/envs/574_animal_clef_env/lib/python3.11/site-packages (from wildlife-tools==1.0.1) (2.0.8)\n",
      "Requirement already satisfied: tensorboard in /Users/matthewjones2/anaconda3/envs/574_animal_clef_env/lib/python3.11/site-packages (from wildlife-tools==1.0.1) (2.19.0)\n",
      "Requirement already satisfied: pytorch_metric_learning in /Users/matthewjones2/anaconda3/envs/574_animal_clef_env/lib/python3.11/site-packages (from wildlife-tools==1.0.1) (2.8.1)\n",
      "Requirement already satisfied: transformers>=4.30.2 in /Users/matthewjones2/anaconda3/envs/574_animal_clef_env/lib/python3.11/site-packages (from wildlife-tools==1.0.1) (4.51.3)\n",
      "Requirement already satisfied: wildlife-datasets>=0.3.4 in /Users/matthewjones2/anaconda3/envs/574_animal_clef_env/lib/python3.11/site-packages (from wildlife-tools==1.0.1) (1.0.6)\n",
      "Requirement already satisfied: kornia>=0.6.12 in /Users/matthewjones2/anaconda3/envs/574_animal_clef_env/lib/python3.11/site-packages (from wildlife-tools==1.0.1) (0.8.1)\n",
      "Collecting gluefactory@ git+https://github.com/cvg/glue-factory.git@1f56839db2242929960d70f85bfac6c19ef2821c (from wildlife-tools==1.0.1)\n",
      "  Using cached gluefactory-0.0-py3-none-any.whl\n",
      "Requirement already satisfied: torchvision>=0.8 in /Users/matthewjones2/anaconda3/envs/574_animal_clef_env/lib/python3.11/site-packages (from gluefactory@ git+https://github.com/cvg/glue-factory.git@1f56839db2242929960d70f85bfac6c19ef2821c->wildlife-tools==1.0.1) (0.22.0)\n",
      "Requirement already satisfied: matplotlib in /Users/matthewjones2/anaconda3/envs/574_animal_clef_env/lib/python3.11/site-packages (from gluefactory@ git+https://github.com/cvg/glue-factory.git@1f56839db2242929960d70f85bfac6c19ef2821c->wildlife-tools==1.0.1) (3.10.3)\n",
      "Requirement already satisfied: scipy in /Users/matthewjones2/anaconda3/envs/574_animal_clef_env/lib/python3.11/site-packages (from gluefactory@ git+https://github.com/cvg/glue-factory.git@1f56839db2242929960d70f85bfac6c19ef2821c->wildlife-tools==1.0.1) (1.15.3)\n",
      "Requirement already satisfied: h5py in /Users/matthewjones2/anaconda3/envs/574_animal_clef_env/lib/python3.11/site-packages (from gluefactory@ git+https://github.com/cvg/glue-factory.git@1f56839db2242929960d70f85bfac6c19ef2821c->wildlife-tools==1.0.1) (3.13.0)\n",
      "Requirement already satisfied: omegaconf in /Users/matthewjones2/anaconda3/envs/574_animal_clef_env/lib/python3.11/site-packages (from gluefactory@ git+https://github.com/cvg/glue-factory.git@1f56839db2242929960d70f85bfac6c19ef2821c->wildlife-tools==1.0.1) (2.3.0)\n",
      "Requirement already satisfied: albumentations in /Users/matthewjones2/anaconda3/envs/574_animal_clef_env/lib/python3.11/site-packages (from gluefactory@ git+https://github.com/cvg/glue-factory.git@1f56839db2242929960d70f85bfac6c19ef2821c->wildlife-tools==1.0.1) (2.0.6)\n",
      "Requirement already satisfied: seaborn in /Users/matthewjones2/anaconda3/envs/574_animal_clef_env/lib/python3.11/site-packages (from gluefactory@ git+https://github.com/cvg/glue-factory.git@1f56839db2242929960d70f85bfac6c19ef2821c->wildlife-tools==1.0.1) (0.13.2)\n",
      "Requirement already satisfied: joblib in /Users/matthewjones2/anaconda3/envs/574_animal_clef_env/lib/python3.11/site-packages (from gluefactory@ git+https://github.com/cvg/glue-factory.git@1f56839db2242929960d70f85bfac6c19ef2821c->wildlife-tools==1.0.1) (1.5.0)\n",
      "Collecting lightglue@ git+https://github.com/cvg/LightGlue.git (from gluefactory@ git+https://github.com/cvg/glue-factory.git@1f56839db2242929960d70f85bfac6c19ef2821c->wildlife-tools==1.0.1)\n",
      "  Cloning https://github.com/cvg/LightGlue.git to /private/var/folders/jk/m2f13ljx3sjfvd1yqj017pk80000gn/T/pip-install-qp8qafue/lightglue_218dbca66f7f47649ebaa98145031947\n",
      "  Running command git clone --filter=blob:none --quiet https://github.com/cvg/LightGlue.git /private/var/folders/jk/m2f13ljx3sjfvd1yqj017pk80000gn/T/pip-install-qp8qafue/lightglue_218dbca66f7f47649ebaa98145031947\n",
      "  Resolved https://github.com/cvg/LightGlue.git to commit edb2b838efb2ecfe3f88097c5fad9887d95aedad\n",
      "  Installing build dependencies ... \u001b[?25ldone\n",
      "\u001b[?25h  Getting requirements to build wheel ... \u001b[?25ldone\n",
      "\u001b[?25h  Preparing metadata (pyproject.toml) ... \u001b[?25ldone\n",
      "\u001b[?25hRequirement already satisfied: kornia_rs>=0.1.9 in /Users/matthewjones2/anaconda3/envs/574_animal_clef_env/lib/python3.11/site-packages (from kornia>=0.6.12->wildlife-tools==1.0.1) (0.1.9)\n",
      "Requirement already satisfied: packaging in /Users/matthewjones2/anaconda3/envs/574_animal_clef_env/lib/python3.11/site-packages (from kornia>=0.6.12->wildlife-tools==1.0.1) (25.0)\n",
      "Requirement already satisfied: python-dateutil>=2.8.2 in /Users/matthewjones2/anaconda3/envs/574_animal_clef_env/lib/python3.11/site-packages (from pandas>=1.1.4->wildlife-tools==1.0.1) (2.9.0.post0)\n",
      "Requirement already satisfied: pytz>=2020.1 in /Users/matthewjones2/anaconda3/envs/574_animal_clef_env/lib/python3.11/site-packages (from pandas>=1.1.4->wildlife-tools==1.0.1) (2025.2)\n",
      "Requirement already satisfied: tzdata>=2022.7 in /Users/matthewjones2/anaconda3/envs/574_animal_clef_env/lib/python3.11/site-packages (from pandas>=1.1.4->wildlife-tools==1.0.1) (2025.2)\n",
      "Requirement already satisfied: six>=1.5 in /Users/matthewjones2/anaconda3/envs/574_animal_clef_env/lib/python3.11/site-packages (from python-dateutil>=2.8.2->pandas>=1.1.4->wildlife-tools==1.0.1) (1.17.0)\n",
      "Requirement already satisfied: threadpoolctl>=3.1.0 in /Users/matthewjones2/anaconda3/envs/574_animal_clef_env/lib/python3.11/site-packages (from scikit-learn>=1.0.1->wildlife-tools==1.0.1) (3.6.0)\n",
      "Requirement already satisfied: pyyaml in /Users/matthewjones2/anaconda3/envs/574_animal_clef_env/lib/python3.11/site-packages (from timm>=0.9.2->wildlife-tools==1.0.1) (6.0.2)\n",
      "Requirement already satisfied: huggingface_hub in /Users/matthewjones2/anaconda3/envs/574_animal_clef_env/lib/python3.11/site-packages (from timm>=0.9.2->wildlife-tools==1.0.1) (0.31.1)\n",
      "Requirement already satisfied: safetensors in /Users/matthewjones2/anaconda3/envs/574_animal_clef_env/lib/python3.11/site-packages (from timm>=0.9.2->wildlife-tools==1.0.1) (0.5.3)\n",
      "Requirement already satisfied: filelock in /Users/matthewjones2/anaconda3/envs/574_animal_clef_env/lib/python3.11/site-packages (from torch>=2.0.1->wildlife-tools==1.0.1) (3.18.0)\n",
      "Requirement already satisfied: typing-extensions>=4.10.0 in /Users/matthewjones2/anaconda3/envs/574_animal_clef_env/lib/python3.11/site-packages (from torch>=2.0.1->wildlife-tools==1.0.1) (4.13.2)\n",
      "Requirement already satisfied: sympy>=1.13.3 in /Users/matthewjones2/anaconda3/envs/574_animal_clef_env/lib/python3.11/site-packages (from torch>=2.0.1->wildlife-tools==1.0.1) (1.14.0)\n",
      "Requirement already satisfied: networkx in /Users/matthewjones2/anaconda3/envs/574_animal_clef_env/lib/python3.11/site-packages (from torch>=2.0.1->wildlife-tools==1.0.1) (3.4.2)\n",
      "Requirement already satisfied: jinja2 in /Users/matthewjones2/anaconda3/envs/574_animal_clef_env/lib/python3.11/site-packages (from torch>=2.0.1->wildlife-tools==1.0.1) (3.1.6)\n",
      "Requirement already satisfied: fsspec in /Users/matthewjones2/anaconda3/envs/574_animal_clef_env/lib/python3.11/site-packages (from torch>=2.0.1->wildlife-tools==1.0.1) (2025.3.0)\n",
      "Requirement already satisfied: mpmath<1.4,>=1.1.0 in /Users/matthewjones2/anaconda3/envs/574_animal_clef_env/lib/python3.11/site-packages (from sympy>=1.13.3->torch>=2.0.1->wildlife-tools==1.0.1) (1.3.0)\n",
      "Requirement already satisfied: regex!=2019.12.17 in /Users/matthewjones2/anaconda3/envs/574_animal_clef_env/lib/python3.11/site-packages (from transformers>=4.30.2->wildlife-tools==1.0.1) (2024.11.6)\n",
      "Requirement already satisfied: requests in /Users/matthewjones2/anaconda3/envs/574_animal_clef_env/lib/python3.11/site-packages (from transformers>=4.30.2->wildlife-tools==1.0.1) (2.32.3)\n",
      "Requirement already satisfied: tokenizers<0.22,>=0.21 in /Users/matthewjones2/anaconda3/envs/574_animal_clef_env/lib/python3.11/site-packages (from transformers>=4.30.2->wildlife-tools==1.0.1) (0.21.1)\n",
      "Requirement already satisfied: hf-xet<2.0.0,>=1.1.0 in /Users/matthewjones2/anaconda3/envs/574_animal_clef_env/lib/python3.11/site-packages (from huggingface_hub->timm>=0.9.2->wildlife-tools==1.0.1) (1.1.0)\n",
      "Requirement already satisfied: datasets in /Users/matthewjones2/anaconda3/envs/574_animal_clef_env/lib/python3.11/site-packages (from wildlife-datasets>=0.3.4->wildlife-tools==1.0.1) (3.6.0)\n",
      "Requirement already satisfied: gdown in /Users/matthewjones2/anaconda3/envs/574_animal_clef_env/lib/python3.11/site-packages (from wildlife-datasets>=0.3.4->wildlife-tools==1.0.1) (5.2.0)\n",
      "Requirement already satisfied: kaggle in /Users/matthewjones2/anaconda3/envs/574_animal_clef_env/lib/python3.11/site-packages (from wildlife-datasets>=0.3.4->wildlife-tools==1.0.1) (1.7.4.5)\n",
      "Requirement already satisfied: contourpy>=1.0.1 in /Users/matthewjones2/anaconda3/envs/574_animal_clef_env/lib/python3.11/site-packages (from matplotlib->gluefactory@ git+https://github.com/cvg/glue-factory.git@1f56839db2242929960d70f85bfac6c19ef2821c->wildlife-tools==1.0.1) (1.3.2)\n",
      "Requirement already satisfied: cycler>=0.10 in /Users/matthewjones2/anaconda3/envs/574_animal_clef_env/lib/python3.11/site-packages (from matplotlib->gluefactory@ git+https://github.com/cvg/glue-factory.git@1f56839db2242929960d70f85bfac6c19ef2821c->wildlife-tools==1.0.1) (0.12.1)\n",
      "Requirement already satisfied: fonttools>=4.22.0 in /Users/matthewjones2/anaconda3/envs/574_animal_clef_env/lib/python3.11/site-packages (from matplotlib->gluefactory@ git+https://github.com/cvg/glue-factory.git@1f56839db2242929960d70f85bfac6c19ef2821c->wildlife-tools==1.0.1) (4.57.0)\n",
      "Requirement already satisfied: kiwisolver>=1.3.1 in /Users/matthewjones2/anaconda3/envs/574_animal_clef_env/lib/python3.11/site-packages (from matplotlib->gluefactory@ git+https://github.com/cvg/glue-factory.git@1f56839db2242929960d70f85bfac6c19ef2821c->wildlife-tools==1.0.1) (1.4.8)\n",
      "Requirement already satisfied: pyparsing>=2.3.1 in /Users/matthewjones2/anaconda3/envs/574_animal_clef_env/lib/python3.11/site-packages (from matplotlib->gluefactory@ git+https://github.com/cvg/glue-factory.git@1f56839db2242929960d70f85bfac6c19ef2821c->wildlife-tools==1.0.1) (3.2.3)\n",
      "Requirement already satisfied: pydantic>=2.9.2 in /Users/matthewjones2/anaconda3/envs/574_animal_clef_env/lib/python3.11/site-packages (from albumentations->gluefactory@ git+https://github.com/cvg/glue-factory.git@1f56839db2242929960d70f85bfac6c19ef2821c->wildlife-tools==1.0.1) (2.11.4)\n",
      "Requirement already satisfied: albucore==0.0.24 in /Users/matthewjones2/anaconda3/envs/574_animal_clef_env/lib/python3.11/site-packages (from albumentations->gluefactory@ git+https://github.com/cvg/glue-factory.git@1f56839db2242929960d70f85bfac6c19ef2821c->wildlife-tools==1.0.1) (0.0.24)\n",
      "Requirement already satisfied: opencv-python-headless>=4.9.0.80 in /Users/matthewjones2/anaconda3/envs/574_animal_clef_env/lib/python3.11/site-packages (from albumentations->gluefactory@ git+https://github.com/cvg/glue-factory.git@1f56839db2242929960d70f85bfac6c19ef2821c->wildlife-tools==1.0.1) (4.11.0.86)\n",
      "Requirement already satisfied: stringzilla>=3.10.4 in /Users/matthewjones2/anaconda3/envs/574_animal_clef_env/lib/python3.11/site-packages (from albucore==0.0.24->albumentations->gluefactory@ git+https://github.com/cvg/glue-factory.git@1f56839db2242929960d70f85bfac6c19ef2821c->wildlife-tools==1.0.1) (3.12.5)\n",
      "Requirement already satisfied: simsimd>=5.9.2 in /Users/matthewjones2/anaconda3/envs/574_animal_clef_env/lib/python3.11/site-packages (from albucore==0.0.24->albumentations->gluefactory@ git+https://github.com/cvg/glue-factory.git@1f56839db2242929960d70f85bfac6c19ef2821c->wildlife-tools==1.0.1) (6.2.1)\n",
      "Requirement already satisfied: annotated-types>=0.6.0 in /Users/matthewjones2/anaconda3/envs/574_animal_clef_env/lib/python3.11/site-packages (from pydantic>=2.9.2->albumentations->gluefactory@ git+https://github.com/cvg/glue-factory.git@1f56839db2242929960d70f85bfac6c19ef2821c->wildlife-tools==1.0.1) (0.7.0)\n",
      "Requirement already satisfied: pydantic-core==2.33.2 in /Users/matthewjones2/anaconda3/envs/574_animal_clef_env/lib/python3.11/site-packages (from pydantic>=2.9.2->albumentations->gluefactory@ git+https://github.com/cvg/glue-factory.git@1f56839db2242929960d70f85bfac6c19ef2821c->wildlife-tools==1.0.1) (2.33.2)\n",
      "Requirement already satisfied: typing-inspection>=0.4.0 in /Users/matthewjones2/anaconda3/envs/574_animal_clef_env/lib/python3.11/site-packages (from pydantic>=2.9.2->albumentations->gluefactory@ git+https://github.com/cvg/glue-factory.git@1f56839db2242929960d70f85bfac6c19ef2821c->wildlife-tools==1.0.1) (0.4.0)\n",
      "Requirement already satisfied: pyarrow>=15.0.0 in /Users/matthewjones2/anaconda3/envs/574_animal_clef_env/lib/python3.11/site-packages (from datasets->wildlife-datasets>=0.3.4->wildlife-tools==1.0.1) (20.0.0)\n",
      "Requirement already satisfied: dill<0.3.9,>=0.3.0 in /Users/matthewjones2/anaconda3/envs/574_animal_clef_env/lib/python3.11/site-packages (from datasets->wildlife-datasets>=0.3.4->wildlife-tools==1.0.1) (0.3.8)\n",
      "Requirement already satisfied: xxhash in /Users/matthewjones2/anaconda3/envs/574_animal_clef_env/lib/python3.11/site-packages (from datasets->wildlife-datasets>=0.3.4->wildlife-tools==1.0.1) (3.5.0)\n",
      "Requirement already satisfied: multiprocess<0.70.17 in /Users/matthewjones2/anaconda3/envs/574_animal_clef_env/lib/python3.11/site-packages (from datasets->wildlife-datasets>=0.3.4->wildlife-tools==1.0.1) (0.70.16)\n",
      "Requirement already satisfied: aiohttp!=4.0.0a0,!=4.0.0a1 in /Users/matthewjones2/anaconda3/envs/574_animal_clef_env/lib/python3.11/site-packages (from fsspec[http]<=2025.3.0,>=2023.1.0->datasets->wildlife-datasets>=0.3.4->wildlife-tools==1.0.1) (3.11.18)\n",
      "Requirement already satisfied: aiohappyeyeballs>=2.3.0 in /Users/matthewjones2/anaconda3/envs/574_animal_clef_env/lib/python3.11/site-packages (from aiohttp!=4.0.0a0,!=4.0.0a1->fsspec[http]<=2025.3.0,>=2023.1.0->datasets->wildlife-datasets>=0.3.4->wildlife-tools==1.0.1) (2.6.1)\n",
      "Requirement already satisfied: aiosignal>=1.1.2 in /Users/matthewjones2/anaconda3/envs/574_animal_clef_env/lib/python3.11/site-packages (from aiohttp!=4.0.0a0,!=4.0.0a1->fsspec[http]<=2025.3.0,>=2023.1.0->datasets->wildlife-datasets>=0.3.4->wildlife-tools==1.0.1) (1.3.2)\n",
      "Requirement already satisfied: attrs>=17.3.0 in /Users/matthewjones2/anaconda3/envs/574_animal_clef_env/lib/python3.11/site-packages (from aiohttp!=4.0.0a0,!=4.0.0a1->fsspec[http]<=2025.3.0,>=2023.1.0->datasets->wildlife-datasets>=0.3.4->wildlife-tools==1.0.1) (25.3.0)\n",
      "Requirement already satisfied: frozenlist>=1.1.1 in /Users/matthewjones2/anaconda3/envs/574_animal_clef_env/lib/python3.11/site-packages (from aiohttp!=4.0.0a0,!=4.0.0a1->fsspec[http]<=2025.3.0,>=2023.1.0->datasets->wildlife-datasets>=0.3.4->wildlife-tools==1.0.1) (1.6.0)\n",
      "Requirement already satisfied: multidict<7.0,>=4.5 in /Users/matthewjones2/anaconda3/envs/574_animal_clef_env/lib/python3.11/site-packages (from aiohttp!=4.0.0a0,!=4.0.0a1->fsspec[http]<=2025.3.0,>=2023.1.0->datasets->wildlife-datasets>=0.3.4->wildlife-tools==1.0.1) (6.4.3)\n",
      "Requirement already satisfied: propcache>=0.2.0 in /Users/matthewjones2/anaconda3/envs/574_animal_clef_env/lib/python3.11/site-packages (from aiohttp!=4.0.0a0,!=4.0.0a1->fsspec[http]<=2025.3.0,>=2023.1.0->datasets->wildlife-datasets>=0.3.4->wildlife-tools==1.0.1) (0.3.1)\n",
      "Requirement already satisfied: yarl<2.0,>=1.17.0 in /Users/matthewjones2/anaconda3/envs/574_animal_clef_env/lib/python3.11/site-packages (from aiohttp!=4.0.0a0,!=4.0.0a1->fsspec[http]<=2025.3.0,>=2023.1.0->datasets->wildlife-datasets>=0.3.4->wildlife-tools==1.0.1) (1.20.0)\n",
      "Requirement already satisfied: idna>=2.0 in /Users/matthewjones2/anaconda3/envs/574_animal_clef_env/lib/python3.11/site-packages (from yarl<2.0,>=1.17.0->aiohttp!=4.0.0a0,!=4.0.0a1->fsspec[http]<=2025.3.0,>=2023.1.0->datasets->wildlife-datasets>=0.3.4->wildlife-tools==1.0.1) (3.10)\n",
      "Requirement already satisfied: charset-normalizer<4,>=2 in /Users/matthewjones2/anaconda3/envs/574_animal_clef_env/lib/python3.11/site-packages (from requests->transformers>=4.30.2->wildlife-tools==1.0.1) (3.4.2)\n",
      "Requirement already satisfied: urllib3<3,>=1.21.1 in /Users/matthewjones2/anaconda3/envs/574_animal_clef_env/lib/python3.11/site-packages (from requests->transformers>=4.30.2->wildlife-tools==1.0.1) (2.4.0)\n",
      "Requirement already satisfied: certifi>=2017.4.17 in /Users/matthewjones2/anaconda3/envs/574_animal_clef_env/lib/python3.11/site-packages (from requests->transformers>=4.30.2->wildlife-tools==1.0.1) (2025.4.26)\n",
      "Requirement already satisfied: beautifulsoup4 in /Users/matthewjones2/anaconda3/envs/574_animal_clef_env/lib/python3.11/site-packages (from gdown->wildlife-datasets>=0.3.4->wildlife-tools==1.0.1) (4.13.4)\n",
      "Requirement already satisfied: soupsieve>1.2 in /Users/matthewjones2/anaconda3/envs/574_animal_clef_env/lib/python3.11/site-packages (from beautifulsoup4->gdown->wildlife-datasets>=0.3.4->wildlife-tools==1.0.1) (2.7)\n",
      "Requirement already satisfied: MarkupSafe>=2.0 in /Users/matthewjones2/anaconda3/envs/574_animal_clef_env/lib/python3.11/site-packages (from jinja2->torch>=2.0.1->wildlife-tools==1.0.1) (3.0.2)\n",
      "Requirement already satisfied: bleach in /Users/matthewjones2/anaconda3/envs/574_animal_clef_env/lib/python3.11/site-packages (from kaggle->wildlife-datasets>=0.3.4->wildlife-tools==1.0.1) (6.2.0)\n",
      "Requirement already satisfied: protobuf in /Users/matthewjones2/anaconda3/envs/574_animal_clef_env/lib/python3.11/site-packages (from kaggle->wildlife-datasets>=0.3.4->wildlife-tools==1.0.1) (6.30.2)\n",
      "Requirement already satisfied: python-slugify in /Users/matthewjones2/anaconda3/envs/574_animal_clef_env/lib/python3.11/site-packages (from kaggle->wildlife-datasets>=0.3.4->wildlife-tools==1.0.1) (8.0.4)\n",
      "Requirement already satisfied: setuptools>=21.0.0 in /Users/matthewjones2/anaconda3/envs/574_animal_clef_env/lib/python3.11/site-packages (from kaggle->wildlife-datasets>=0.3.4->wildlife-tools==1.0.1) (78.1.1)\n",
      "Requirement already satisfied: text-unidecode in /Users/matthewjones2/anaconda3/envs/574_animal_clef_env/lib/python3.11/site-packages (from kaggle->wildlife-datasets>=0.3.4->wildlife-tools==1.0.1) (1.3)\n",
      "Requirement already satisfied: webencodings in /Users/matthewjones2/anaconda3/envs/574_animal_clef_env/lib/python3.11/site-packages (from kaggle->wildlife-datasets>=0.3.4->wildlife-tools==1.0.1) (0.5.1)\n",
      "Requirement already satisfied: antlr4-python3-runtime==4.9.* in /Users/matthewjones2/anaconda3/envs/574_animal_clef_env/lib/python3.11/site-packages (from omegaconf->gluefactory@ git+https://github.com/cvg/glue-factory.git@1f56839db2242929960d70f85bfac6c19ef2821c->wildlife-tools==1.0.1) (4.9.3)\n",
      "Requirement already satisfied: PySocks!=1.5.7,>=1.5.6 in /Users/matthewjones2/anaconda3/envs/574_animal_clef_env/lib/python3.11/site-packages (from requests[socks]->gdown->wildlife-datasets>=0.3.4->wildlife-tools==1.0.1) (1.7.1)\n",
      "Requirement already satisfied: absl-py>=0.4 in /Users/matthewjones2/anaconda3/envs/574_animal_clef_env/lib/python3.11/site-packages (from tensorboard->wildlife-tools==1.0.1) (2.2.2)\n",
      "Requirement already satisfied: grpcio>=1.48.2 in /Users/matthewjones2/anaconda3/envs/574_animal_clef_env/lib/python3.11/site-packages (from tensorboard->wildlife-tools==1.0.1) (1.71.0)\n",
      "Requirement already satisfied: markdown>=2.6.8 in /Users/matthewjones2/anaconda3/envs/574_animal_clef_env/lib/python3.11/site-packages (from tensorboard->wildlife-tools==1.0.1) (3.8)\n",
      "Requirement already satisfied: tensorboard-data-server<0.8.0,>=0.7.0 in /Users/matthewjones2/anaconda3/envs/574_animal_clef_env/lib/python3.11/site-packages (from tensorboard->wildlife-tools==1.0.1) (0.7.2)\n",
      "Requirement already satisfied: werkzeug>=1.0.1 in /Users/matthewjones2/anaconda3/envs/574_animal_clef_env/lib/python3.11/site-packages (from tensorboard->wildlife-tools==1.0.1) (3.1.3)\n"
     ]
    }
   ],
   "source": [
    "!pip install git+https://github.com/WildlifeDatasets/wildlife-datasets@develop\n",
    "!pip install git+https://github.com/WildlifeDatasets/wildlife-tools"
   ]
  },
  {
   "cell_type": "markdown",
   "metadata": {},
   "source": [
    "## Dependencies import\n",
    "We load all the required packages and then define the function `create_sample_submission`, which converts provided predictions and a submission file for the competition."
   ]
  },
  {
   "cell_type": "code",
   "execution_count": 3,
   "metadata": {
    "execution": {
     "iopub.execute_input": "2025-02-28T19:02:48.989478Z",
     "iopub.status.busy": "2025-02-28T19:02:48.989124Z",
     "iopub.status.idle": "2025-02-28T19:03:14.017947Z",
     "shell.execute_reply": "2025-02-28T19:03:14.017225Z",
     "shell.execute_reply.started": "2025-02-28T19:02:48.989440Z"
    },
    "trusted": true
   },
   "outputs": [
    {
     "name": "stderr",
     "output_type": "stream",
     "text": [
      "/Users/matthewjones2/anaconda3/envs/574_animal_clef_env/lib/python3.11/site-packages/tqdm/auto.py:21: TqdmWarning: IProgress not found. Please update jupyter and ipywidgets. See https://ipywidgets.readthedocs.io/en/stable/user_install.html\n",
      "  from .autonotebook import tqdm as notebook_tqdm\n",
      "Matplotlib is building the font cache; this may take a moment.\n"
     ]
    }
   ],
   "source": [
    "import os\n",
    "import numpy as np\n",
    "import pandas as pd\n",
    "import timm\n",
    "import torchvision.transforms as T\n",
    "from wildlife_datasets.datasets import AnimalCLEF2025\n",
    "from wildlife_tools.features import DeepFeatures\n",
    "from wildlife_tools.similarity import CosineSimilarity\n",
    "def create_sample_submission(dataset_query, predictions, file_name='sample_submission.csv'):\n",
    "    df = pd.DataFrame({\n",
    "        'image_id': dataset_query.metadata['image_id'],\n",
    "        'identity': predictions\n",
    "    })\n",
    "    df.to_csv(file_name, index=False)"
   ]
  },
  {
   "cell_type": "markdown",
   "metadata": {},
   "source": [
    "We need to specify the `root`, where the data are stored and then two image transformations. \n",
    "1. The first transform only resizes the images and is used for visualization.\n",
    "2. The second transform also converts it to torch tensor and is used for operations on neural networks."
   ]
  },
  {
   "cell_type": "code",
   "execution_count": 6,
   "metadata": {
    "execution": {
     "iopub.execute_input": "2025-02-28T19:03:14.022559Z",
     "iopub.status.busy": "2025-02-28T19:03:14.022237Z",
     "iopub.status.idle": "2025-02-28T19:03:14.028039Z",
     "shell.execute_reply": "2025-02-28T19:03:14.027109Z",
     "shell.execute_reply.started": "2025-02-28T19:03:14.022528Z"
    },
    "trusted": true
   },
   "outputs": [],
   "source": [
    "root = '/kaggle/input/animal-clef-2025'\n",
    "transform_display = T.Compose([\n",
    "    T.Resize([384, 384]),\n",
    "    ])\n",
    "transform = T.Compose([\n",
    "    *transform_display.transforms,\n",
    "    T.ToTensor(),\n",
    "    T.Normalize(mean=(0.485, 0.456, 0.406), std=(0.229, 0.224, 0.225))\n",
    "    ])"
   ]
  },
  {
   "cell_type": "markdown",
   "metadata": {},
   "source": [
    "### 📊 Visualizing Data\n",
    "\n",
    "Since `AnimalCLEF2015` is the child class of `datasets.WildlifeDataset` from [wildlife-datasets](https://github.com/WildlifeDatasets/wildlife-datasets/blob/main/wildlife_datasets/datasets/datasets.py), it inherits all its methods and attributes. The following code specify which `transform` we want to use while loading images and that we want to load labels alongside images."
   ]
  },
  {
   "cell_type": "code",
   "execution_count": 5,
   "metadata": {
    "execution": {
     "iopub.execute_input": "2025-02-28T19:03:14.031459Z",
     "iopub.status.busy": "2025-02-28T19:03:14.031146Z",
     "iopub.status.idle": "2025-02-28T19:03:55.560857Z",
     "shell.execute_reply": "2025-02-28T19:03:55.559854Z",
     "shell.execute_reply.started": "2025-02-28T19:03:14.031430Z"
    },
    "trusted": true
   },
   "outputs": [
    {
     "ename": "Exception",
     "evalue": "root does not exist. You may have have mispelled it.",
     "output_type": "error",
     "traceback": [
      "\u001b[31m---------------------------------------------------------------------------\u001b[39m",
      "\u001b[31mException\u001b[39m                                 Traceback (most recent call last)",
      "\u001b[36mCell\u001b[39m\u001b[36m \u001b[39m\u001b[32mIn[5]\u001b[39m\u001b[32m, line 1\u001b[39m\n\u001b[32m----> \u001b[39m\u001b[32m1\u001b[39m dataset = \u001b[43mAnimalCLEF2025\u001b[49m\u001b[43m(\u001b[49m\u001b[43mroot\u001b[49m\u001b[43m,\u001b[49m\u001b[43m \u001b[49m\u001b[43mtransform\u001b[49m\u001b[43m=\u001b[49m\u001b[43mtransform_display\u001b[49m\u001b[43m,\u001b[49m\u001b[43m \u001b[49m\u001b[43mload_label\u001b[49m\u001b[43m=\u001b[49m\u001b[38;5;28;43;01mTrue\u001b[39;49;00m\u001b[43m)\u001b[49m\n",
      "\u001b[36mFile \u001b[39m\u001b[32m~/anaconda3/envs/574_animal_clef_env/lib/python3.11/site-packages/wildlife_datasets/datasets/datasets.py:81\u001b[39m, in \u001b[36mWildlifeDataset.__init__\u001b[39m\u001b[34m(self, root, df, update_wrong_labels, transform, img_load, remove_unknown, remove_columns, check_files, load_label, col_path, col_label, **kwargs)\u001b[39m\n\u001b[32m     61\u001b[39m \u001b[38;5;250m\u001b[39m\u001b[33;03m\"\"\"Initializes the class.\u001b[39;00m\n\u001b[32m     62\u001b[39m \n\u001b[32m     63\u001b[39m \u001b[33;03mIf `df` is specified, it copies it. Otherwise, it creates it\u001b[39;00m\n\u001b[32m   (...)\u001b[39m\u001b[32m     77\u001b[39m \u001b[33;03m    col_label (str, optional): Column name containing individual animal names (labels).\u001b[39;00m\n\u001b[32m     78\u001b[39m \u001b[33;03m\"\"\"\u001b[39;00m\n\u001b[32m     80\u001b[39m \u001b[38;5;28;01mif\u001b[39;00m \u001b[38;5;129;01mnot\u001b[39;00m \u001b[38;5;28mself\u001b[39m.saved_to_system_folder \u001b[38;5;129;01mand\u001b[39;00m \u001b[38;5;129;01mnot\u001b[39;00m root \u001b[38;5;129;01mis\u001b[39;00m \u001b[38;5;28;01mNone\u001b[39;00m \u001b[38;5;129;01mand\u001b[39;00m \u001b[38;5;129;01mnot\u001b[39;00m os.path.exists(root):\n\u001b[32m---> \u001b[39m\u001b[32m81\u001b[39m     \u001b[38;5;28;01mraise\u001b[39;00m \u001b[38;5;167;01mException\u001b[39;00m(\u001b[33m'\u001b[39m\u001b[33mroot does not exist. You may have have mispelled it.\u001b[39m\u001b[33m'\u001b[39m)\n\u001b[32m     82\u001b[39m \u001b[38;5;28;01mif\u001b[39;00m \u001b[38;5;28mself\u001b[39m.outdated_dataset:\n\u001b[32m     83\u001b[39m     \u001b[38;5;28mprint\u001b[39m(\u001b[33m'\u001b[39m\u001b[33mThis dataset is outdated. You may want to call a newer version such as \u001b[39m\u001b[38;5;132;01m%s\u001b[39;00m\u001b[33mv2.\u001b[39m\u001b[33m'\u001b[39m % \u001b[38;5;28mself\u001b[39m.\u001b[34m__class__\u001b[39m.\u001b[34m__name__\u001b[39m)\n",
      "\u001b[31mException\u001b[39m: root does not exist. You may have have mispelled it."
     ]
    }
   ],
   "source": [
    "dataset = AnimalCLEF2025(root, transform=transform_display, load_label=True)"
   ]
  },
  {
   "cell_type": "markdown",
   "metadata": {},
   "source": [
    "📌 **Plotting a sample grid** of the data. We can see that all animals in the testing sets are turtles. The column `dataset` states that all the photos come from the SeaTurtleID2022 dataset."
   ]
  },
  {
   "cell_type": "code",
   "execution_count": null,
   "metadata": {
    "execution": {
     "iopub.execute_input": "2025-02-28T19:03:55.562888Z",
     "iopub.status.busy": "2025-02-28T19:03:55.562512Z"
    },
    "trusted": true
   },
   "outputs": [
    {
     "data": {
      "text/html": [
       "<div>\n",
       "<style scoped>\n",
       "    .dataframe tbody tr th:only-of-type {\n",
       "        vertical-align: middle;\n",
       "    }\n",
       "\n",
       "    .dataframe tbody tr th {\n",
       "        vertical-align: top;\n",
       "    }\n",
       "\n",
       "    .dataframe thead th {\n",
       "        text-align: right;\n",
       "    }\n",
       "</style>\n",
       "<table border=\"1\" class=\"dataframe\">\n",
       "  <thead>\n",
       "    <tr style=\"text-align: right;\">\n",
       "      <th></th>\n",
       "      <th>image_id</th>\n",
       "      <th>identity</th>\n",
       "      <th>path</th>\n",
       "      <th>date</th>\n",
       "      <th>orientation</th>\n",
       "      <th>species</th>\n",
       "      <th>split</th>\n",
       "      <th>dataset</th>\n",
       "    </tr>\n",
       "  </thead>\n",
       "  <tbody>\n",
       "    <tr>\n",
       "      <th>0</th>\n",
       "      <td>0</td>\n",
       "      <td>LynxID2025_lynx_37</td>\n",
       "      <td>images/LynxID2025/database/000f9ee1aad063a4485...</td>\n",
       "      <td>NaN</td>\n",
       "      <td>right</td>\n",
       "      <td>lynx</td>\n",
       "      <td>database</td>\n",
       "      <td>LynxID2025</td>\n",
       "    </tr>\n",
       "    <tr>\n",
       "      <th>1</th>\n",
       "      <td>1</td>\n",
       "      <td>LynxID2025_lynx_37</td>\n",
       "      <td>images/LynxID2025/database/0020edb6689e9f78462...</td>\n",
       "      <td>NaN</td>\n",
       "      <td>left</td>\n",
       "      <td>lynx</td>\n",
       "      <td>database</td>\n",
       "      <td>LynxID2025</td>\n",
       "    </tr>\n",
       "    <tr>\n",
       "      <th>2</th>\n",
       "      <td>2</td>\n",
       "      <td>LynxID2025_lynx_49</td>\n",
       "      <td>images/LynxID2025/database/003152e4145b5b69400...</td>\n",
       "      <td>NaN</td>\n",
       "      <td>left</td>\n",
       "      <td>lynx</td>\n",
       "      <td>database</td>\n",
       "      <td>LynxID2025</td>\n",
       "    </tr>\n",
       "    <tr>\n",
       "      <th>3</th>\n",
       "      <td>3</td>\n",
       "      <td>NaN</td>\n",
       "      <td>images/LynxID2025/query/003b89301c7b9f6d18f722...</td>\n",
       "      <td>NaN</td>\n",
       "      <td>back</td>\n",
       "      <td>lynx</td>\n",
       "      <td>query</td>\n",
       "      <td>LynxID2025</td>\n",
       "    </tr>\n",
       "    <tr>\n",
       "      <th>4</th>\n",
       "      <td>4</td>\n",
       "      <td>LynxID2025_lynx_13</td>\n",
       "      <td>images/LynxID2025/database/003c3f82011e9c3f849...</td>\n",
       "      <td>NaN</td>\n",
       "      <td>right</td>\n",
       "      <td>lynx</td>\n",
       "      <td>database</td>\n",
       "      <td>LynxID2025</td>\n",
       "    </tr>\n",
       "    <tr>\n",
       "      <th>...</th>\n",
       "      <td>...</td>\n",
       "      <td>...</td>\n",
       "      <td>...</td>\n",
       "      <td>...</td>\n",
       "      <td>...</td>\n",
       "      <td>...</td>\n",
       "      <td>...</td>\n",
       "      <td>...</td>\n",
       "    </tr>\n",
       "    <tr>\n",
       "      <th>15204</th>\n",
       "      <td>15204</td>\n",
       "      <td>NaN</td>\n",
       "      <td>images/SeaTurtleID2022/query/images/fecd2dfed0...</td>\n",
       "      <td>2024-06-07</td>\n",
       "      <td>NaN</td>\n",
       "      <td>loggerhead turtle</td>\n",
       "      <td>query</td>\n",
       "      <td>SeaTurtleID2022</td>\n",
       "    </tr>\n",
       "    <tr>\n",
       "      <th>15205</th>\n",
       "      <td>15205</td>\n",
       "      <td>NaN</td>\n",
       "      <td>images/SeaTurtleID2022/query/images/ff1a0c812b...</td>\n",
       "      <td>2023-06-28</td>\n",
       "      <td>NaN</td>\n",
       "      <td>loggerhead turtle</td>\n",
       "      <td>query</td>\n",
       "      <td>SeaTurtleID2022</td>\n",
       "    </tr>\n",
       "    <tr>\n",
       "      <th>15206</th>\n",
       "      <td>15206</td>\n",
       "      <td>NaN</td>\n",
       "      <td>images/SeaTurtleID2022/query/images/ff22f1cfa6...</td>\n",
       "      <td>2024-06-09</td>\n",
       "      <td>NaN</td>\n",
       "      <td>loggerhead turtle</td>\n",
       "      <td>query</td>\n",
       "      <td>SeaTurtleID2022</td>\n",
       "    </tr>\n",
       "    <tr>\n",
       "      <th>15207</th>\n",
       "      <td>15207</td>\n",
       "      <td>NaN</td>\n",
       "      <td>images/SeaTurtleID2022/query/images/ff5d5116d1...</td>\n",
       "      <td>2023-06-21</td>\n",
       "      <td>NaN</td>\n",
       "      <td>loggerhead turtle</td>\n",
       "      <td>query</td>\n",
       "      <td>SeaTurtleID2022</td>\n",
       "    </tr>\n",
       "    <tr>\n",
       "      <th>15208</th>\n",
       "      <td>15208</td>\n",
       "      <td>NaN</td>\n",
       "      <td>images/SeaTurtleID2022/query/images/ff7f522363...</td>\n",
       "      <td>2023-06-13</td>\n",
       "      <td>NaN</td>\n",
       "      <td>loggerhead turtle</td>\n",
       "      <td>query</td>\n",
       "      <td>SeaTurtleID2022</td>\n",
       "    </tr>\n",
       "  </tbody>\n",
       "</table>\n",
       "<p>15209 rows × 8 columns</p>\n",
       "</div>"
      ],
      "text/plain": [
       "       image_id            identity  \\\n",
       "0             0  LynxID2025_lynx_37   \n",
       "1             1  LynxID2025_lynx_37   \n",
       "2             2  LynxID2025_lynx_49   \n",
       "3             3                 NaN   \n",
       "4             4  LynxID2025_lynx_13   \n",
       "...         ...                 ...   \n",
       "15204     15204                 NaN   \n",
       "15205     15205                 NaN   \n",
       "15206     15206                 NaN   \n",
       "15207     15207                 NaN   \n",
       "15208     15208                 NaN   \n",
       "\n",
       "                                                    path        date  \\\n",
       "0      images/LynxID2025/database/000f9ee1aad063a4485...         NaN   \n",
       "1      images/LynxID2025/database/0020edb6689e9f78462...         NaN   \n",
       "2      images/LynxID2025/database/003152e4145b5b69400...         NaN   \n",
       "3      images/LynxID2025/query/003b89301c7b9f6d18f722...         NaN   \n",
       "4      images/LynxID2025/database/003c3f82011e9c3f849...         NaN   \n",
       "...                                                  ...         ...   \n",
       "15204  images/SeaTurtleID2022/query/images/fecd2dfed0...  2024-06-07   \n",
       "15205  images/SeaTurtleID2022/query/images/ff1a0c812b...  2023-06-28   \n",
       "15206  images/SeaTurtleID2022/query/images/ff22f1cfa6...  2024-06-09   \n",
       "15207  images/SeaTurtleID2022/query/images/ff5d5116d1...  2023-06-21   \n",
       "15208  images/SeaTurtleID2022/query/images/ff7f522363...  2023-06-13   \n",
       "\n",
       "      orientation            species     split          dataset  \n",
       "0           right               lynx  database       LynxID2025  \n",
       "1            left               lynx  database       LynxID2025  \n",
       "2            left               lynx  database       LynxID2025  \n",
       "3            back               lynx     query       LynxID2025  \n",
       "4           right               lynx  database       LynxID2025  \n",
       "...           ...                ...       ...              ...  \n",
       "15204         NaN  loggerhead turtle     query  SeaTurtleID2022  \n",
       "15205         NaN  loggerhead turtle     query  SeaTurtleID2022  \n",
       "15206         NaN  loggerhead turtle     query  SeaTurtleID2022  \n",
       "15207         NaN  loggerhead turtle     query  SeaTurtleID2022  \n",
       "15208         NaN  loggerhead turtle     query  SeaTurtleID2022  \n",
       "\n",
       "[15209 rows x 8 columns]"
      ]
     },
     "execution_count": 5,
     "metadata": {},
     "output_type": "execute_result"
    }
   ],
   "source": [
    "dataset.plot_grid()\n",
    "dataset.metadata"
   ]
  },
  {
   "cell_type": "markdown",
   "metadata": {},
   "source": [
    "This is confirmed by showing all datasets from which the data is composed of."
   ]
  },
  {
   "cell_type": "code",
   "execution_count": 6,
   "metadata": {
    "execution": {
     "iopub.status.idle": "2025-02-28T19:03:56.605203Z",
     "shell.execute_reply": "2025-02-28T19:03:56.604486Z",
     "shell.execute_reply.started": "2025-02-28T19:03:56.591181Z"
    },
    "trusted": true
   },
   "outputs": [
    {
     "data": {
      "text/plain": [
       "dataset           split   \n",
       "SeaTurtleID2022   database    8729\n",
       "LynxID2025        database    2957\n",
       "SalamanderID2025  database    1388\n",
       "LynxID2025        query        946\n",
       "SalamanderID2025  query        689\n",
       "SeaTurtleID2022   query        500\n",
       "Name: count, dtype: int64"
      ]
     },
     "execution_count": 6,
     "metadata": {},
     "output_type": "execute_result"
    }
   ],
   "source": [
    "dataset.metadata[['dataset', 'split']].value_counts()"
   ]
  },
  {
   "cell_type": "markdown",
   "metadata": {},
   "source": [
    "Now, we can plot the data of any dataset. Here we do it for the SeaTurtleID2022. The images are the same as in the query set. The goal for each image from the query set will be to determine its identity from the database (it will always be in the form `SeaTurtleID2022_t???` or to decide that it is a new individual (it is not present in the database)."
   ]
  },
  {
   "cell_type": "code",
   "execution_count": null,
   "metadata": {
    "execution": {
     "iopub.execute_input": "2025-02-28T19:03:56.606158Z",
     "iopub.status.busy": "2025-02-28T19:03:56.605917Z"
    },
    "trusted": true
   },
   "outputs": [],
   "source": [
    "idx = dataset.metadata['identity'].str.startswith('SeaTurtleID2022')\n",
    "idx[idx.isnull()] = False\n",
    "dataset.plot_grid(idx=idx);"
   ]
  },
  {
   "cell_type": "markdown",
   "metadata": {},
   "source": [
    "## Inference with MegaDescriptor\n",
    "\n",
    "Instead of training a classifier, we can just use out of the shelf pretrained models - [MegaDescriptor](https://huggingface.co/BVRA/MegaDescriptor-L-384). We use MegaDescriptor to extract features from all images. \n",
    "\n",
    "**Note:** _It is highly recommended to use the GPU acceleration._"
   ]
  },
  {
   "cell_type": "code",
   "execution_count": 8,
   "metadata": {
    "execution": {
     "iopub.execute_input": "2025-02-28T19:03:57.138924Z",
     "iopub.status.idle": "2025-02-28T19:04:04.314012Z",
     "shell.execute_reply": "2025-02-28T19:04:04.313050Z",
     "shell.execute_reply.started": "2025-02-28T19:03:57.138899Z"
    },
    "trusted": true
   },
   "outputs": [],
   "source": [
    "# Loading the dataset\n",
    "dataset = AnimalCLEF2025(root, transform=transform, load_label=True)\n",
    "dataset_database = dataset.get_subset(dataset.metadata['split'] == 'database')\n",
    "dataset_query = dataset.get_subset(dataset.metadata['split'] == 'query')\n",
    "n_query = len(dataset_query)"
   ]
  },
  {
   "cell_type": "code",
   "execution_count": 9,
   "metadata": {
    "_kg_hide-input": false,
    "_kg_hide-output": true,
    "execution": {
     "iopub.execute_input": "2025-02-28T19:04:04.315519Z",
     "iopub.status.busy": "2025-02-28T19:04:04.315150Z",
     "iopub.status.idle": "2025-02-28T19:20:12.560429Z",
     "shell.execute_reply": "2025-02-28T19:20:12.559391Z",
     "shell.execute_reply.started": "2025-02-28T19:04:04.315468Z"
    },
    "trusted": true
   },
   "outputs": [
    {
     "data": {
      "application/vnd.jupyter.widget-view+json": {
       "model_id": "4a625a115a89447b8eda44134431297b",
       "version_major": 2,
       "version_minor": 0
      },
      "text/plain": [
       "config.json:   0%|          | 0.00/609 [00:00<?, ?B/s]"
      ]
     },
     "metadata": {},
     "output_type": "display_data"
    },
    {
     "data": {
      "application/vnd.jupyter.widget-view+json": {
       "model_id": "3b0fbe903267440282a1a1e40c69ae3c",
       "version_major": 2,
       "version_minor": 0
      },
      "text/plain": [
       "pytorch_model.bin:   0%|          | 0.00/1.94G [00:00<?, ?B/s]"
      ]
     },
     "metadata": {},
     "output_type": "display_data"
    },
    {
     "name": "stderr",
     "output_type": "stream",
     "text": [
      "100%|█████████████████████████████████████████████████████████████| 409/409 [13:09<00:00,  1.93s/it]\n",
      "100%|███████████████████████████████████████████████████████████████| 67/67 [02:42<00:00,  2.43s/it]\n"
     ]
    }
   ],
   "source": [
    "#Loading the model\n",
    "name = 'hf-hub:BVRA/MegaDescriptor-L-384'\n",
    "device = 'cuda'\n",
    "model = timm.create_model(name, num_classes=0, pretrained=True)\n",
    "extractor = DeepFeatures(model, device=device, batch_size=32, num_workers=0)\n",
    "features_database = extractor(dataset_database)\n",
    "features_query = extractor(dataset_query)"
   ]
  },
  {
   "cell_type": "markdown",
   "metadata": {},
   "source": [
    "Here we extract the similarity between the images. The similarity equals to the cosine similarity between the corresponding feature vectors. Since the cosine similarity reflects the angle between the feature vectors, high similarity means that the feature vectors are close to each other and should depict the same individual."
   ]
  },
  {
   "cell_type": "code",
   "execution_count": 10,
   "metadata": {
    "execution": {
     "iopub.execute_input": "2025-02-28T19:20:12.561642Z",
     "iopub.status.busy": "2025-02-28T19:20:12.561337Z",
     "iopub.status.idle": "2025-02-28T19:20:12.953383Z",
     "shell.execute_reply": "2025-02-28T19:20:12.952443Z",
     "shell.execute_reply.started": "2025-02-28T19:20:12.561617Z"
    },
    "trusted": true
   },
   "outputs": [],
   "source": [
    "similarity = CosineSimilarity()(features_query, features_database)"
   ]
  },
  {
   "cell_type": "markdown",
   "metadata": {},
   "source": [
    "For each query image we extract the closest image as predicted by MegaDescriptor. Their indices are stored in `pred_idx` and the similarity score of the top match in `pred_scores`."
   ]
  },
  {
   "cell_type": "code",
   "execution_count": 11,
   "metadata": {
    "execution": {
     "iopub.execute_input": "2025-02-28T19:20:12.954600Z",
     "iopub.status.busy": "2025-02-28T19:20:12.954293Z",
     "iopub.status.idle": "2025-02-28T19:20:13.718443Z",
     "shell.execute_reply": "2025-02-28T19:20:13.717769Z",
     "shell.execute_reply.started": "2025-02-28T19:20:12.954570Z"
    },
    "trusted": true
   },
   "outputs": [],
   "source": [
    "pred_idx = similarity.argsort(axis=1)[:,-1]\n",
    "pred_scores = similarity[range(n_query), pred_idx]"
   ]
  },
  {
   "cell_type": "markdown",
   "metadata": {},
   "source": [
    "This is sufficient to perform predictions as shown below in `predictions`. However, we also need to predict whether the individual is new. We utilize the simplest idea and predict that the individual is new whenever the similarity score of the top prediction is below a certain threshold which we arbirtarily selected as 0.6. We create a submission file, which scores 30.0% on the public leaderboard."
   ]
  },
  {
   "cell_type": "code",
   "execution_count": 12,
   "metadata": {
    "execution": {
     "iopub.execute_input": "2025-02-28T19:20:13.719536Z",
     "iopub.status.busy": "2025-02-28T19:20:13.719226Z",
     "iopub.status.idle": "2025-02-28T19:20:13.731916Z",
     "shell.execute_reply": "2025-02-28T19:20:13.731207Z",
     "shell.execute_reply.started": "2025-02-28T19:20:13.719502Z"
    },
    "trusted": true
   },
   "outputs": [],
   "source": [
    "new_individual = 'new_individual'\n",
    "threshold = 0.6\n",
    "labels = dataset_database.labels_string\n",
    "predictions = labels[pred_idx]\n",
    "predictions[pred_scores < threshold] = new_individual\n",
    "create_sample_submission(dataset_query, predictions, file_name='sample_submission.csv')"
   ]
  },
  {
   "cell_type": "code",
   "execution_count": null,
   "metadata": {
    "trusted": true
   },
   "outputs": [],
   "source": []
  }
 ],
 "metadata": {
  "kaggle": {
   "accelerator": "gpu",
   "dataSources": [
    {
     "databundleVersionId": 11223220,
     "sourceId": 91451,
     "sourceType": "competition"
    }
   ],
   "isGpuEnabled": true,
   "isInternetEnabled": true,
   "language": "python",
   "sourceType": "notebook"
  },
  "kernelspec": {
   "display_name": "574_animal_clef_env",
   "language": "python",
   "name": "python3"
  },
  "language_info": {
   "codemirror_mode": {
    "name": "ipython",
    "version": 3
   },
   "file_extension": ".py",
   "mimetype": "text/x-python",
   "name": "python",
   "nbconvert_exporter": "python",
   "pygments_lexer": "ipython3",
   "version": "3.11.11"
  }
 },
 "nbformat": 4,
 "nbformat_minor": 4
}
